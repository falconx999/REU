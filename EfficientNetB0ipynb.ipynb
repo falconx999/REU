{
  "cells": [
    {
      "cell_type": "markdown",
      "metadata": {
        "id": "llPuFYQmXnXN"
      },
      "source": [
        "## Imports"
      ]
    },
    {
      "cell_type": "markdown",
      "metadata": {
        "id": "XHU4CTbvAUE9"
      },
      "source": [
        "**THIS PROJECT IS ON MEDICAL IMAGE ANALYSIS USING DEEP LEARNING MODEL, EFFICIENTNET. CLASSIFY THE INPUT HISTOPATHOLOGICAL IMAGE INTO NORMAL OR CANCEROUS**\n",
        "**bold text**"
      ]
    },
    {
      "cell_type": "code",
      "execution_count": null,
      "metadata": {
        "colab": {
          "base_uri": "https://localhost:8080/"
        },
        "id": "NwE1h2r6dEzu",
        "outputId": "2f1b5bac-ff6f-48ac-a122-f5ba6f4f5fd1"
      },
      "outputs": [
        {
          "name": "stdout",
          "output_type": "stream",
          "text": [
            "Drive not mounted, so nothing to flush and unmount.\n"
          ]
        }
      ],
      "source": [
        "from google.colab import drive\n",
        "drive.flush_and_unmount()"
      ]
    },
    {
      "cell_type": "markdown",
      "metadata": {
        "id": "YGcnDWTAc9PR"
      },
      "source": [
        "**EFFICIENTNETB0 EFFICIENTNETB1  EFFICIENTNETB2  EFFICIENTNETB3**"
      ]
    },
    {
      "cell_type": "code",
      "execution_count": null,
      "metadata": {
        "id": "ZmffDahAXnXT"
      },
      "outputs": [],
      "source": [
        "import numpy as np\n",
        "import pandas as pd\n",
        "import tensorflow as tf\n",
        "import matplotlib.pyplot as plt\n",
        "from matplotlib import image\n",
        "from sklearn.metrics import confusion_matrix\n",
        "from tensorflow.keras.preprocessing import image_dataset_from_directory"
      ]
    },
    {
      "cell_type": "code",
      "execution_count": null,
      "metadata": {
        "id": "BUjs6UHIo4Y3"
      },
      "outputs": [],
      "source": [
        "from tensorflow.keras import layers\n",
        "from keras.models import Model\n",
        "from tensorflow.keras.optimizers import RMSprop\n",
        "from keras.utils.vis_utils import plot_model"
      ]
    },
    {
      "cell_type": "code",
      "execution_count": null,
      "metadata": {
        "colab": {
          "base_uri": "https://localhost:8080/"
        },
        "id": "21DbbzcB98FO",
        "outputId": "5ff35b0b-a0b7-4df5-e995-12784f076f4f"
      },
      "outputs": [
        {
          "output_type": "stream",
          "name": "stdout",
          "text": [
            "Mounted at /content/drive\n"
          ]
        }
      ],
      "source": [
        "from google.colab import drive\n",
        "drive.mount('/content/drive')"
      ]
    },
    {
      "cell_type": "code",
      "execution_count": null,
      "metadata": {
        "colab": {
          "base_uri": "https://localhost:8080/"
        },
        "id": "m1VwmVGn984C",
        "outputId": "d7a35d24-70ef-42c4-9cae-924ff4208422"
      },
      "outputs": [
        {
          "name": "stdout",
          "output_type": "stream",
          "text": [
            "Looking in indexes: https://pypi.org/simple, https://us-python.pkg.dev/colab-wheels/public/simple/\n",
            "Collecting split-folders\n",
            "  Downloading split_folders-0.5.1-py3-none-any.whl (8.4 kB)\n",
            "Installing collected packages: split-folders\n",
            "Successfully installed split-folders-0.5.1\n"
          ]
        }
      ],
      "source": [
        "pip install split-folders"
      ]
    },
    {
      "cell_type": "markdown",
      "metadata": {
        "id": "5wPEYC-JD8TH"
      },
      "source": [
        "# THIS CODE EXECUTED ONLY ONCE TO SPLIT DATA INTO TRAIN VALIDATION AND TEST **SETS**"
      ]
    },
    {
      "cell_type": "code",
      "execution_count": null,
      "metadata": {
        "id": "AjTUVoBpa984"
      },
      "outputs": [],
      "source": [
        "import os\n",
        "import numpy as np\n",
        "import shutil\n",
        "import pandas as pd\n",
        "\n",
        "\n",
        "def train_test_split():\n",
        "    print(\"########### Train Test Val Script started ###########\")\n",
        "    #data_csv = pd.read_csv(\"DataSet_Final.csv\") ##Use if you have classes saved in any .csv file\n",
        "\n",
        "    root_dir = '*root directory of the dataset folder*'\n",
        "    classes_dir = ['lung_aca' , 'lung_n', 'lung_scc']\n",
        "\n",
        "    #for name in data_csv['names'].unique()[:10]:\n",
        "    #    classes_dir.append(name)\n",
        "\n",
        "    processed_dir = '*root directory of the dataset folder*'\n",
        "\n",
        "    val_ratio = 0.20\n",
        "    test_ratio = 0.20\n",
        "\n",
        "    for cls in classes_dir:\n",
        "        # Creating partitions of the data after shuffeling\n",
        "        print(\"$$$$$$$ Class Name \" + cls + \" $$$$$$$\")\n",
        "        src = processed_dir +\"//\" + cls  # Folder to copy images from\n",
        "\n",
        "        allFileNames = os.listdir(src)\n",
        "        np.random.shuffle(allFileNames)\n",
        "        train_FileNames, val_FileNames, test_FileNames = np.split(np.array(allFileNames),\n",
        "                                                                  [int(len(allFileNames) * (1 - (val_ratio + test_ratio))),\n",
        "                                                                   int(len(allFileNames) * (1 - val_ratio)),\n",
        "                                                                   ])\n",
        "\n",
        "        train_FileNames = [src + '//' + name for name in train_FileNames.tolist()]\n",
        "        val_FileNames = [src + '//' + name for name in val_FileNames.tolist()]\n",
        "        test_FileNames = [src + '//' + name for name in test_FileNames.tolist()]\n",
        "\n",
        "        print('Total images: '+ str(len(allFileNames)))\n",
        "        print('Training: '+ str(len(train_FileNames)))\n",
        "        print('Validation: '+  str(len(val_FileNames)))\n",
        "        print('Testing: '+ str(len(test_FileNames)))\n",
        "\n",
        "        # # Creating Train / Val / Test folders (One time use)\n",
        "        os.makedirs(root_dir + '/train/' + cls)\n",
        "        os.makedirs(root_dir + '/val/' + cls)\n",
        "        os.makedirs(root_dir + '/test/' + cls)\n",
        "\n",
        "        # Copy-pasting images\n",
        "        for name in train_FileNames:\n",
        "            shutil.copy(name, root_dir + '/train/' + cls)\n",
        "\n",
        "        for name in val_FileNames:\n",
        "            shutil.copy(name, root_dir + '/val/' + cls)\n",
        "\n",
        "        for name in test_FileNames:\n",
        "            shutil.copy(name, root_dir + '/test/' + cls)\n",
        "\n",
        "    print(\"########### Train Test Val Script Ended ###########\")\n",
        "\n",
        "train_test_split()"
      ]
    },
    {
      "cell_type": "code",
      "execution_count": null,
      "metadata": {
        "id": "i41sPMiJacXt"
      },
      "outputs": [],
      "source": [
        "BATCH_SIZE = 32\n",
        "IMAGE_SIZE = (224,224)"
      ]
    },
    {
      "cell_type": "markdown",
      "metadata": {
        "id": "zBskHPZAXnXV"
      },
      "source": [
        "## Loading Data"
      ]
    },
    {
      "cell_type": "code",
      "execution_count": null,
      "metadata": {
        "colab": {
          "base_uri": "https://localhost:8080/"
        },
        "id": "FlHi_ASIU43P",
        "outputId": "a791e8a1-267b-47c3-88d5-3251b9a03fb9"
      },
      "outputs": [
        {
          "output_type": "stream",
          "name": "stdout",
          "text": [
            "Found 9016 files belonging to 3 classes.\n",
            "Found 3006 files belonging to 3 classes.\n",
            "Found 3006 files belonging to 3 classes.\n"
          ]
        }
      ],
      "source": [
        "train_ds = image_dataset_from_directory(directory = 'training dataset directory', labels='inferred', label_mode='categorical', seed = 69 , batch_size = BATCH_SIZE,image_size =IMAGE_SIZE, shuffle = True)\n",
        "valid_ds = image_dataset_from_directory(directory = 'validation dataset directory', labels='inferred', label_mode='categorical', seed = 69 , batch_size = BATCH_SIZE,image_size = IMAGE_SIZE ,shuffle = False )\n",
        "test_ds = image_dataset_from_directory(directory = 'test dataset directory', labels='inferred', label_mode='categorical', seed = 69 , batch_size = BATCH_SIZE,image_size = IMAGE_SIZE,shuffle = False)\n"
      ]
    },
    {
      "cell_type": "markdown",
      "metadata": {
        "id": "koaO5d8RXnXW"
      },
      "source": [
        "## Models"
      ]
    },
    {
      "cell_type": "markdown",
      "metadata": {
        "id": "tAHUNwzkXnXX"
      },
      "source": [
        "### EfficientNetB0"
      ]
    },
    {
      "cell_type": "code",
      "execution_count": null,
      "metadata": {
        "id": "cWCf5NpwXnXX"
      },
      "outputs": [],
      "source": [
        "model0new = tf.keras.applications.EfficientNetB0(weights= None, input_shape=(224, 224, 3), classes=3)\n",
        "model0new.compile(optimizer='adam', loss='categorical_crossentropy', metrics=['acc'])"
      ]
    },
    {
      "cell_type": "code",
      "execution_count": null,
      "metadata": {
        "colab": {
          "base_uri": "https://localhost:8080/"
        },
        "id": "rsJt0VuTpWaj",
        "outputId": "71d5e615-ac1b-4780-a62d-bf92a31feaab"
      },
      "outputs": [
        {
          "name": "stdout",
          "output_type": "stream",
          "text": [
            "Model: \"efficientnetb0\"\n",
            "__________________________________________________________________________________________________\n",
            " Layer (type)                   Output Shape         Param #     Connected to                     \n",
            "==================================================================================================\n",
            " input_1 (InputLayer)           [(None, 224, 224, 3  0           []                               \n",
            "                                )]                                                                \n",
            "                                                                                                  \n",
            " rescaling (Rescaling)          (None, 224, 224, 3)  0           ['input_1[0][0]']                \n",
            "                                                                                                  \n",
            " normalization (Normalization)  (None, 224, 224, 3)  7           ['rescaling[0][0]']              \n",
            "                                                                                                  \n",
            " stem_conv_pad (ZeroPadding2D)  (None, 225, 225, 3)  0           ['normalization[0][0]']          \n",
            "                                                                                                  \n",
            " stem_conv (Conv2D)             (None, 112, 112, 32  864         ['stem_conv_pad[0][0]']          \n",
            "                                )                                                                 \n",
            "                                                                                                  \n",
            " stem_bn (BatchNormalization)   (None, 112, 112, 32  128         ['stem_conv[0][0]']              \n",
            "                                )                                                                 \n",
            "                                                                                                  \n",
            " stem_activation (Activation)   (None, 112, 112, 32  0           ['stem_bn[0][0]']                \n",
            "                                )                                                                 \n",
            "                                                                                                  \n",
            " block1a_dwconv (DepthwiseConv2  (None, 112, 112, 32  288        ['stem_activation[0][0]']        \n",
            " D)                             )                                                                 \n",
            "                                                                                                  \n",
            " block1a_bn (BatchNormalization  (None, 112, 112, 32  128        ['block1a_dwconv[0][0]']         \n",
            " )                              )                                                                 \n",
            "                                                                                                  \n",
            " block1a_activation (Activation  (None, 112, 112, 32  0          ['block1a_bn[0][0]']             \n",
            " )                              )                                                                 \n",
            "                                                                                                  \n",
            " block1a_se_squeeze (GlobalAver  (None, 32)          0           ['block1a_activation[0][0]']     \n",
            " agePooling2D)                                                                                    \n",
            "                                                                                                  \n",
            " block1a_se_reshape (Reshape)   (None, 1, 1, 32)     0           ['block1a_se_squeeze[0][0]']     \n",
            "                                                                                                  \n",
            " block1a_se_reduce (Conv2D)     (None, 1, 1, 8)      264         ['block1a_se_reshape[0][0]']     \n",
            "                                                                                                  \n",
            " block1a_se_expand (Conv2D)     (None, 1, 1, 32)     288         ['block1a_se_reduce[0][0]']      \n",
            "                                                                                                  \n",
            " block1a_se_excite (Multiply)   (None, 112, 112, 32  0           ['block1a_activation[0][0]',     \n",
            "                                )                                 'block1a_se_expand[0][0]']      \n",
            "                                                                                                  \n",
            " block1a_project_conv (Conv2D)  (None, 112, 112, 16  512         ['block1a_se_excite[0][0]']      \n",
            "                                )                                                                 \n",
            "                                                                                                  \n",
            " block1a_project_bn (BatchNorma  (None, 112, 112, 16  64         ['block1a_project_conv[0][0]']   \n",
            " lization)                      )                                                                 \n",
            "                                                                                                  \n",
            " block2a_expand_conv (Conv2D)   (None, 112, 112, 96  1536        ['block1a_project_bn[0][0]']     \n",
            "                                )                                                                 \n",
            "                                                                                                  \n",
            " block2a_expand_bn (BatchNormal  (None, 112, 112, 96  384        ['block2a_expand_conv[0][0]']    \n",
            " ization)                       )                                                                 \n",
            "                                                                                                  \n",
            " block2a_expand_activation (Act  (None, 112, 112, 96  0          ['block2a_expand_bn[0][0]']      \n",
            " ivation)                       )                                                                 \n",
            "                                                                                                  \n",
            " block2a_dwconv_pad (ZeroPaddin  (None, 113, 113, 96  0          ['block2a_expand_activation[0][0]\n",
            " g2D)                           )                                ']                               \n",
            "                                                                                                  \n",
            " block2a_dwconv (DepthwiseConv2  (None, 56, 56, 96)  864         ['block2a_dwconv_pad[0][0]']     \n",
            " D)                                                                                               \n",
            "                                                                                                  \n",
            " block2a_bn (BatchNormalization  (None, 56, 56, 96)  384         ['block2a_dwconv[0][0]']         \n",
            " )                                                                                                \n",
            "                                                                                                  \n",
            " block2a_activation (Activation  (None, 56, 56, 96)  0           ['block2a_bn[0][0]']             \n",
            " )                                                                                                \n",
            "                                                                                                  \n",
            " block2a_se_squeeze (GlobalAver  (None, 96)          0           ['block2a_activation[0][0]']     \n",
            " agePooling2D)                                                                                    \n",
            "                                                                                                  \n",
            " block2a_se_reshape (Reshape)   (None, 1, 1, 96)     0           ['block2a_se_squeeze[0][0]']     \n",
            "                                                                                                  \n",
            " block2a_se_reduce (Conv2D)     (None, 1, 1, 4)      388         ['block2a_se_reshape[0][0]']     \n",
            "                                                                                                  \n",
            " block2a_se_expand (Conv2D)     (None, 1, 1, 96)     480         ['block2a_se_reduce[0][0]']      \n",
            "                                                                                                  \n",
            " block2a_se_excite (Multiply)   (None, 56, 56, 96)   0           ['block2a_activation[0][0]',     \n",
            "                                                                  'block2a_se_expand[0][0]']      \n",
            "                                                                                                  \n",
            " block2a_project_conv (Conv2D)  (None, 56, 56, 24)   2304        ['block2a_se_excite[0][0]']      \n",
            "                                                                                                  \n",
            " block2a_project_bn (BatchNorma  (None, 56, 56, 24)  96          ['block2a_project_conv[0][0]']   \n",
            " lization)                                                                                        \n",
            "                                                                                                  \n",
            " block2b_expand_conv (Conv2D)   (None, 56, 56, 144)  3456        ['block2a_project_bn[0][0]']     \n",
            "                                                                                                  \n",
            " block2b_expand_bn (BatchNormal  (None, 56, 56, 144)  576        ['block2b_expand_conv[0][0]']    \n",
            " ization)                                                                                         \n",
            "                                                                                                  \n",
            " block2b_expand_activation (Act  (None, 56, 56, 144)  0          ['block2b_expand_bn[0][0]']      \n",
            " ivation)                                                                                         \n",
            "                                                                                                  \n",
            " block2b_dwconv (DepthwiseConv2  (None, 56, 56, 144)  1296       ['block2b_expand_activation[0][0]\n",
            " D)                                                              ']                               \n",
            "                                                                                                  \n",
            " block2b_bn (BatchNormalization  (None, 56, 56, 144)  576        ['block2b_dwconv[0][0]']         \n",
            " )                                                                                                \n",
            "                                                                                                  \n",
            " block2b_activation (Activation  (None, 56, 56, 144)  0          ['block2b_bn[0][0]']             \n",
            " )                                                                                                \n",
            "                                                                                                  \n",
            " block2b_se_squeeze (GlobalAver  (None, 144)         0           ['block2b_activation[0][0]']     \n",
            " agePooling2D)                                                                                    \n",
            "                                                                                                  \n",
            " block2b_se_reshape (Reshape)   (None, 1, 1, 144)    0           ['block2b_se_squeeze[0][0]']     \n",
            "                                                                                                  \n",
            " block2b_se_reduce (Conv2D)     (None, 1, 1, 6)      870         ['block2b_se_reshape[0][0]']     \n",
            "                                                                                                  \n",
            " block2b_se_expand (Conv2D)     (None, 1, 1, 144)    1008        ['block2b_se_reduce[0][0]']      \n",
            "                                                                                                  \n",
            " block2b_se_excite (Multiply)   (None, 56, 56, 144)  0           ['block2b_activation[0][0]',     \n",
            "                                                                  'block2b_se_expand[0][0]']      \n",
            "                                                                                                  \n",
            " block2b_project_conv (Conv2D)  (None, 56, 56, 24)   3456        ['block2b_se_excite[0][0]']      \n",
            "                                                                                                  \n",
            " block2b_project_bn (BatchNorma  (None, 56, 56, 24)  96          ['block2b_project_conv[0][0]']   \n",
            " lization)                                                                                        \n",
            "                                                                                                  \n",
            " block2b_drop (Dropout)         (None, 56, 56, 24)   0           ['block2b_project_bn[0][0]']     \n",
            "                                                                                                  \n",
            " block2b_add (Add)              (None, 56, 56, 24)   0           ['block2b_drop[0][0]',           \n",
            "                                                                  'block2a_project_bn[0][0]']     \n",
            "                                                                                                  \n",
            " block3a_expand_conv (Conv2D)   (None, 56, 56, 144)  3456        ['block2b_add[0][0]']            \n",
            "                                                                                                  \n",
            " block3a_expand_bn (BatchNormal  (None, 56, 56, 144)  576        ['block3a_expand_conv[0][0]']    \n",
            " ization)                                                                                         \n",
            "                                                                                                  \n",
            " block3a_expand_activation (Act  (None, 56, 56, 144)  0          ['block3a_expand_bn[0][0]']      \n",
            " ivation)                                                                                         \n",
            "                                                                                                  \n",
            " block3a_dwconv_pad (ZeroPaddin  (None, 59, 59, 144)  0          ['block3a_expand_activation[0][0]\n",
            " g2D)                                                            ']                               \n",
            "                                                                                                  \n",
            " block3a_dwconv (DepthwiseConv2  (None, 28, 28, 144)  3600       ['block3a_dwconv_pad[0][0]']     \n",
            " D)                                                                                               \n",
            "                                                                                                  \n",
            " block3a_bn (BatchNormalization  (None, 28, 28, 144)  576        ['block3a_dwconv[0][0]']         \n",
            " )                                                                                                \n",
            "                                                                                                  \n",
            " block3a_activation (Activation  (None, 28, 28, 144)  0          ['block3a_bn[0][0]']             \n",
            " )                                                                                                \n",
            "                                                                                                  \n",
            " block3a_se_squeeze (GlobalAver  (None, 144)         0           ['block3a_activation[0][0]']     \n",
            " agePooling2D)                                                                                    \n",
            "                                                                                                  \n",
            " block3a_se_reshape (Reshape)   (None, 1, 1, 144)    0           ['block3a_se_squeeze[0][0]']     \n",
            "                                                                                                  \n",
            " block3a_se_reduce (Conv2D)     (None, 1, 1, 6)      870         ['block3a_se_reshape[0][0]']     \n",
            "                                                                                                  \n",
            " block3a_se_expand (Conv2D)     (None, 1, 1, 144)    1008        ['block3a_se_reduce[0][0]']      \n",
            "                                                                                                  \n",
            " block3a_se_excite (Multiply)   (None, 28, 28, 144)  0           ['block3a_activation[0][0]',     \n",
            "                                                                  'block3a_se_expand[0][0]']      \n",
            "                                                                                                  \n",
            " block3a_project_conv (Conv2D)  (None, 28, 28, 40)   5760        ['block3a_se_excite[0][0]']      \n",
            "                                                                                                  \n",
            " block3a_project_bn (BatchNorma  (None, 28, 28, 40)  160         ['block3a_project_conv[0][0]']   \n",
            " lization)                                                                                        \n",
            "                                                                                                  \n",
            " block3b_expand_conv (Conv2D)   (None, 28, 28, 240)  9600        ['block3a_project_bn[0][0]']     \n",
            "                                                                                                  \n",
            " block3b_expand_bn (BatchNormal  (None, 28, 28, 240)  960        ['block3b_expand_conv[0][0]']    \n",
            " ization)                                                                                         \n",
            "                                                                                                  \n",
            " block3b_expand_activation (Act  (None, 28, 28, 240)  0          ['block3b_expand_bn[0][0]']      \n",
            " ivation)                                                                                         \n",
            "                                                                                                  \n",
            " block3b_dwconv (DepthwiseConv2  (None, 28, 28, 240)  6000       ['block3b_expand_activation[0][0]\n",
            " D)                                                              ']                               \n",
            "                                                                                                  \n",
            " block3b_bn (BatchNormalization  (None, 28, 28, 240)  960        ['block3b_dwconv[0][0]']         \n",
            " )                                                                                                \n",
            "                                                                                                  \n",
            " block3b_activation (Activation  (None, 28, 28, 240)  0          ['block3b_bn[0][0]']             \n",
            " )                                                                                                \n",
            "                                                                                                  \n",
            " block3b_se_squeeze (GlobalAver  (None, 240)         0           ['block3b_activation[0][0]']     \n",
            " agePooling2D)                                                                                    \n",
            "                                                                                                  \n",
            " block3b_se_reshape (Reshape)   (None, 1, 1, 240)    0           ['block3b_se_squeeze[0][0]']     \n",
            "                                                                                                  \n",
            " block3b_se_reduce (Conv2D)     (None, 1, 1, 10)     2410        ['block3b_se_reshape[0][0]']     \n",
            "                                                                                                  \n",
            " block3b_se_expand (Conv2D)     (None, 1, 1, 240)    2640        ['block3b_se_reduce[0][0]']      \n",
            "                                                                                                  \n",
            " block3b_se_excite (Multiply)   (None, 28, 28, 240)  0           ['block3b_activation[0][0]',     \n",
            "                                                                  'block3b_se_expand[0][0]']      \n",
            "                                                                                                  \n",
            " block3b_project_conv (Conv2D)  (None, 28, 28, 40)   9600        ['block3b_se_excite[0][0]']      \n",
            "                                                                                                  \n",
            " block3b_project_bn (BatchNorma  (None, 28, 28, 40)  160         ['block3b_project_conv[0][0]']   \n",
            " lization)                                                                                        \n",
            "                                                                                                  \n",
            " block3b_drop (Dropout)         (None, 28, 28, 40)   0           ['block3b_project_bn[0][0]']     \n",
            "                                                                                                  \n",
            " block3b_add (Add)              (None, 28, 28, 40)   0           ['block3b_drop[0][0]',           \n",
            "                                                                  'block3a_project_bn[0][0]']     \n",
            "                                                                                                  \n",
            " block4a_expand_conv (Conv2D)   (None, 28, 28, 240)  9600        ['block3b_add[0][0]']            \n",
            "                                                                                                  \n",
            " block4a_expand_bn (BatchNormal  (None, 28, 28, 240)  960        ['block4a_expand_conv[0][0]']    \n",
            " ization)                                                                                         \n",
            "                                                                                                  \n",
            " block4a_expand_activation (Act  (None, 28, 28, 240)  0          ['block4a_expand_bn[0][0]']      \n",
            " ivation)                                                                                         \n",
            "                                                                                                  \n",
            " block4a_dwconv_pad (ZeroPaddin  (None, 29, 29, 240)  0          ['block4a_expand_activation[0][0]\n",
            " g2D)                                                            ']                               \n",
            "                                                                                                  \n",
            " block4a_dwconv (DepthwiseConv2  (None, 14, 14, 240)  2160       ['block4a_dwconv_pad[0][0]']     \n",
            " D)                                                                                               \n",
            "                                                                                                  \n",
            " block4a_bn (BatchNormalization  (None, 14, 14, 240)  960        ['block4a_dwconv[0][0]']         \n",
            " )                                                                                                \n",
            "                                                                                                  \n",
            " block4a_activation (Activation  (None, 14, 14, 240)  0          ['block4a_bn[0][0]']             \n",
            " )                                                                                                \n",
            "                                                                                                  \n",
            " block4a_se_squeeze (GlobalAver  (None, 240)         0           ['block4a_activation[0][0]']     \n",
            " agePooling2D)                                                                                    \n",
            "                                                                                                  \n",
            " block4a_se_reshape (Reshape)   (None, 1, 1, 240)    0           ['block4a_se_squeeze[0][0]']     \n",
            "                                                                                                  \n",
            " block4a_se_reduce (Conv2D)     (None, 1, 1, 10)     2410        ['block4a_se_reshape[0][0]']     \n",
            "                                                                                                  \n",
            " block4a_se_expand (Conv2D)     (None, 1, 1, 240)    2640        ['block4a_se_reduce[0][0]']      \n",
            "                                                                                                  \n",
            " block4a_se_excite (Multiply)   (None, 14, 14, 240)  0           ['block4a_activation[0][0]',     \n",
            "                                                                  'block4a_se_expand[0][0]']      \n",
            "                                                                                                  \n",
            " block4a_project_conv (Conv2D)  (None, 14, 14, 80)   19200       ['block4a_se_excite[0][0]']      \n",
            "                                                                                                  \n",
            " block4a_project_bn (BatchNorma  (None, 14, 14, 80)  320         ['block4a_project_conv[0][0]']   \n",
            " lization)                                                                                        \n",
            "                                                                                                  \n",
            " block4b_expand_conv (Conv2D)   (None, 14, 14, 480)  38400       ['block4a_project_bn[0][0]']     \n",
            "                                                                                                  \n",
            " block4b_expand_bn (BatchNormal  (None, 14, 14, 480)  1920       ['block4b_expand_conv[0][0]']    \n",
            " ization)                                                                                         \n",
            "                                                                                                  \n",
            " block4b_expand_activation (Act  (None, 14, 14, 480)  0          ['block4b_expand_bn[0][0]']      \n",
            " ivation)                                                                                         \n",
            "                                                                                                  \n",
            " block4b_dwconv (DepthwiseConv2  (None, 14, 14, 480)  4320       ['block4b_expand_activation[0][0]\n",
            " D)                                                              ']                               \n",
            "                                                                                                  \n",
            " block4b_bn (BatchNormalization  (None, 14, 14, 480)  1920       ['block4b_dwconv[0][0]']         \n",
            " )                                                                                                \n",
            "                                                                                                  \n",
            " block4b_activation (Activation  (None, 14, 14, 480)  0          ['block4b_bn[0][0]']             \n",
            " )                                                                                                \n",
            "                                                                                                  \n",
            " block4b_se_squeeze (GlobalAver  (None, 480)         0           ['block4b_activation[0][0]']     \n",
            " agePooling2D)                                                                                    \n",
            "                                                                                                  \n",
            " block4b_se_reshape (Reshape)   (None, 1, 1, 480)    0           ['block4b_se_squeeze[0][0]']     \n",
            "                                                                                                  \n",
            " block4b_se_reduce (Conv2D)     (None, 1, 1, 20)     9620        ['block4b_se_reshape[0][0]']     \n",
            "                                                                                                  \n",
            " block4b_se_expand (Conv2D)     (None, 1, 1, 480)    10080       ['block4b_se_reduce[0][0]']      \n",
            "                                                                                                  \n",
            " block4b_se_excite (Multiply)   (None, 14, 14, 480)  0           ['block4b_activation[0][0]',     \n",
            "                                                                  'block4b_se_expand[0][0]']      \n",
            "                                                                                                  \n",
            " block4b_project_conv (Conv2D)  (None, 14, 14, 80)   38400       ['block4b_se_excite[0][0]']      \n",
            "                                                                                                  \n",
            " block4b_project_bn (BatchNorma  (None, 14, 14, 80)  320         ['block4b_project_conv[0][0]']   \n",
            " lization)                                                                                        \n",
            "                                                                                                  \n",
            " block4b_drop (Dropout)         (None, 14, 14, 80)   0           ['block4b_project_bn[0][0]']     \n",
            "                                                                                                  \n",
            " block4b_add (Add)              (None, 14, 14, 80)   0           ['block4b_drop[0][0]',           \n",
            "                                                                  'block4a_project_bn[0][0]']     \n",
            "                                                                                                  \n",
            " block4c_expand_conv (Conv2D)   (None, 14, 14, 480)  38400       ['block4b_add[0][0]']            \n",
            "                                                                                                  \n",
            " block4c_expand_bn (BatchNormal  (None, 14, 14, 480)  1920       ['block4c_expand_conv[0][0]']    \n",
            " ization)                                                                                         \n",
            "                                                                                                  \n",
            " block4c_expand_activation (Act  (None, 14, 14, 480)  0          ['block4c_expand_bn[0][0]']      \n",
            " ivation)                                                                                         \n",
            "                                                                                                  \n",
            " block4c_dwconv (DepthwiseConv2  (None, 14, 14, 480)  4320       ['block4c_expand_activation[0][0]\n",
            " D)                                                              ']                               \n",
            "                                                                                                  \n",
            " block4c_bn (BatchNormalization  (None, 14, 14, 480)  1920       ['block4c_dwconv[0][0]']         \n",
            " )                                                                                                \n",
            "                                                                                                  \n",
            " block4c_activation (Activation  (None, 14, 14, 480)  0          ['block4c_bn[0][0]']             \n",
            " )                                                                                                \n",
            "                                                                                                  \n",
            " block4c_se_squeeze (GlobalAver  (None, 480)         0           ['block4c_activation[0][0]']     \n",
            " agePooling2D)                                                                                    \n",
            "                                                                                                  \n",
            " block4c_se_reshape (Reshape)   (None, 1, 1, 480)    0           ['block4c_se_squeeze[0][0]']     \n",
            "                                                                                                  \n",
            " block4c_se_reduce (Conv2D)     (None, 1, 1, 20)     9620        ['block4c_se_reshape[0][0]']     \n",
            "                                                                                                  \n",
            " block4c_se_expand (Conv2D)     (None, 1, 1, 480)    10080       ['block4c_se_reduce[0][0]']      \n",
            "                                                                                                  \n",
            " block4c_se_excite (Multiply)   (None, 14, 14, 480)  0           ['block4c_activation[0][0]',     \n",
            "                                                                  'block4c_se_expand[0][0]']      \n",
            "                                                                                                  \n",
            " block4c_project_conv (Conv2D)  (None, 14, 14, 80)   38400       ['block4c_se_excite[0][0]']      \n",
            "                                                                                                  \n",
            " block4c_project_bn (BatchNorma  (None, 14, 14, 80)  320         ['block4c_project_conv[0][0]']   \n",
            " lization)                                                                                        \n",
            "                                                                                                  \n",
            " block4c_drop (Dropout)         (None, 14, 14, 80)   0           ['block4c_project_bn[0][0]']     \n",
            "                                                                                                  \n",
            " block4c_add (Add)              (None, 14, 14, 80)   0           ['block4c_drop[0][0]',           \n",
            "                                                                  'block4b_add[0][0]']            \n",
            "                                                                                                  \n",
            " block5a_expand_conv (Conv2D)   (None, 14, 14, 480)  38400       ['block4c_add[0][0]']            \n",
            "                                                                                                  \n",
            " block5a_expand_bn (BatchNormal  (None, 14, 14, 480)  1920       ['block5a_expand_conv[0][0]']    \n",
            " ization)                                                                                         \n",
            "                                                                                                  \n",
            " block5a_expand_activation (Act  (None, 14, 14, 480)  0          ['block5a_expand_bn[0][0]']      \n",
            " ivation)                                                                                         \n",
            "                                                                                                  \n",
            " block5a_dwconv (DepthwiseConv2  (None, 14, 14, 480)  12000      ['block5a_expand_activation[0][0]\n",
            " D)                                                              ']                               \n",
            "                                                                                                  \n",
            " block5a_bn (BatchNormalization  (None, 14, 14, 480)  1920       ['block5a_dwconv[0][0]']         \n",
            " )                                                                                                \n",
            "                                                                                                  \n",
            " block5a_activation (Activation  (None, 14, 14, 480)  0          ['block5a_bn[0][0]']             \n",
            " )                                                                                                \n",
            "                                                                                                  \n",
            " block5a_se_squeeze (GlobalAver  (None, 480)         0           ['block5a_activation[0][0]']     \n",
            " agePooling2D)                                                                                    \n",
            "                                                                                                  \n",
            " block5a_se_reshape (Reshape)   (None, 1, 1, 480)    0           ['block5a_se_squeeze[0][0]']     \n",
            "                                                                                                  \n",
            " block5a_se_reduce (Conv2D)     (None, 1, 1, 20)     9620        ['block5a_se_reshape[0][0]']     \n",
            "                                                                                                  \n",
            " block5a_se_expand (Conv2D)     (None, 1, 1, 480)    10080       ['block5a_se_reduce[0][0]']      \n",
            "                                                                                                  \n",
            " block5a_se_excite (Multiply)   (None, 14, 14, 480)  0           ['block5a_activation[0][0]',     \n",
            "                                                                  'block5a_se_expand[0][0]']      \n",
            "                                                                                                  \n",
            " block5a_project_conv (Conv2D)  (None, 14, 14, 112)  53760       ['block5a_se_excite[0][0]']      \n",
            "                                                                                                  \n",
            " block5a_project_bn (BatchNorma  (None, 14, 14, 112)  448        ['block5a_project_conv[0][0]']   \n",
            " lization)                                                                                        \n",
            "                                                                                                  \n",
            " block5b_expand_conv (Conv2D)   (None, 14, 14, 672)  75264       ['block5a_project_bn[0][0]']     \n",
            "                                                                                                  \n",
            " block5b_expand_bn (BatchNormal  (None, 14, 14, 672)  2688       ['block5b_expand_conv[0][0]']    \n",
            " ization)                                                                                         \n",
            "                                                                                                  \n",
            " block5b_expand_activation (Act  (None, 14, 14, 672)  0          ['block5b_expand_bn[0][0]']      \n",
            " ivation)                                                                                         \n",
            "                                                                                                  \n",
            " block5b_dwconv (DepthwiseConv2  (None, 14, 14, 672)  16800      ['block5b_expand_activation[0][0]\n",
            " D)                                                              ']                               \n",
            "                                                                                                  \n",
            " block5b_bn (BatchNormalization  (None, 14, 14, 672)  2688       ['block5b_dwconv[0][0]']         \n",
            " )                                                                                                \n",
            "                                                                                                  \n",
            " block5b_activation (Activation  (None, 14, 14, 672)  0          ['block5b_bn[0][0]']             \n",
            " )                                                                                                \n",
            "                                                                                                  \n",
            " block5b_se_squeeze (GlobalAver  (None, 672)         0           ['block5b_activation[0][0]']     \n",
            " agePooling2D)                                                                                    \n",
            "                                                                                                  \n",
            " block5b_se_reshape (Reshape)   (None, 1, 1, 672)    0           ['block5b_se_squeeze[0][0]']     \n",
            "                                                                                                  \n",
            " block5b_se_reduce (Conv2D)     (None, 1, 1, 28)     18844       ['block5b_se_reshape[0][0]']     \n",
            "                                                                                                  \n",
            " block5b_se_expand (Conv2D)     (None, 1, 1, 672)    19488       ['block5b_se_reduce[0][0]']      \n",
            "                                                                                                  \n",
            " block5b_se_excite (Multiply)   (None, 14, 14, 672)  0           ['block5b_activation[0][0]',     \n",
            "                                                                  'block5b_se_expand[0][0]']      \n",
            "                                                                                                  \n",
            " block5b_project_conv (Conv2D)  (None, 14, 14, 112)  75264       ['block5b_se_excite[0][0]']      \n",
            "                                                                                                  \n",
            " block5b_project_bn (BatchNorma  (None, 14, 14, 112)  448        ['block5b_project_conv[0][0]']   \n",
            " lization)                                                                                        \n",
            "                                                                                                  \n",
            " block5b_drop (Dropout)         (None, 14, 14, 112)  0           ['block5b_project_bn[0][0]']     \n",
            "                                                                                                  \n",
            " block5b_add (Add)              (None, 14, 14, 112)  0           ['block5b_drop[0][0]',           \n",
            "                                                                  'block5a_project_bn[0][0]']     \n",
            "                                                                                                  \n",
            " block5c_expand_conv (Conv2D)   (None, 14, 14, 672)  75264       ['block5b_add[0][0]']            \n",
            "                                                                                                  \n",
            " block5c_expand_bn (BatchNormal  (None, 14, 14, 672)  2688       ['block5c_expand_conv[0][0]']    \n",
            " ization)                                                                                         \n",
            "                                                                                                  \n",
            " block5c_expand_activation (Act  (None, 14, 14, 672)  0          ['block5c_expand_bn[0][0]']      \n",
            " ivation)                                                                                         \n",
            "                                                                                                  \n",
            " block5c_dwconv (DepthwiseConv2  (None, 14, 14, 672)  16800      ['block5c_expand_activation[0][0]\n",
            " D)                                                              ']                               \n",
            "                                                                                                  \n",
            " block5c_bn (BatchNormalization  (None, 14, 14, 672)  2688       ['block5c_dwconv[0][0]']         \n",
            " )                                                                                                \n",
            "                                                                                                  \n",
            " block5c_activation (Activation  (None, 14, 14, 672)  0          ['block5c_bn[0][0]']             \n",
            " )                                                                                                \n",
            "                                                                                                  \n",
            " block5c_se_squeeze (GlobalAver  (None, 672)         0           ['block5c_activation[0][0]']     \n",
            " agePooling2D)                                                                                    \n",
            "                                                                                                  \n",
            " block5c_se_reshape (Reshape)   (None, 1, 1, 672)    0           ['block5c_se_squeeze[0][0]']     \n",
            "                                                                                                  \n",
            " block5c_se_reduce (Conv2D)     (None, 1, 1, 28)     18844       ['block5c_se_reshape[0][0]']     \n",
            "                                                                                                  \n",
            " block5c_se_expand (Conv2D)     (None, 1, 1, 672)    19488       ['block5c_se_reduce[0][0]']      \n",
            "                                                                                                  \n",
            " block5c_se_excite (Multiply)   (None, 14, 14, 672)  0           ['block5c_activation[0][0]',     \n",
            "                                                                  'block5c_se_expand[0][0]']      \n",
            "                                                                                                  \n",
            " block5c_project_conv (Conv2D)  (None, 14, 14, 112)  75264       ['block5c_se_excite[0][0]']      \n",
            "                                                                                                  \n",
            " block5c_project_bn (BatchNorma  (None, 14, 14, 112)  448        ['block5c_project_conv[0][0]']   \n",
            " lization)                                                                                        \n",
            "                                                                                                  \n",
            " block5c_drop (Dropout)         (None, 14, 14, 112)  0           ['block5c_project_bn[0][0]']     \n",
            "                                                                                                  \n",
            " block5c_add (Add)              (None, 14, 14, 112)  0           ['block5c_drop[0][0]',           \n",
            "                                                                  'block5b_add[0][0]']            \n",
            "                                                                                                  \n",
            " block6a_expand_conv (Conv2D)   (None, 14, 14, 672)  75264       ['block5c_add[0][0]']            \n",
            "                                                                                                  \n",
            " block6a_expand_bn (BatchNormal  (None, 14, 14, 672)  2688       ['block6a_expand_conv[0][0]']    \n",
            " ization)                                                                                         \n",
            "                                                                                                  \n",
            " block6a_expand_activation (Act  (None, 14, 14, 672)  0          ['block6a_expand_bn[0][0]']      \n",
            " ivation)                                                                                         \n",
            "                                                                                                  \n",
            " block6a_dwconv_pad (ZeroPaddin  (None, 17, 17, 672)  0          ['block6a_expand_activation[0][0]\n",
            " g2D)                                                            ']                               \n",
            "                                                                                                  \n",
            " block6a_dwconv (DepthwiseConv2  (None, 7, 7, 672)   16800       ['block6a_dwconv_pad[0][0]']     \n",
            " D)                                                                                               \n",
            "                                                                                                  \n",
            " block6a_bn (BatchNormalization  (None, 7, 7, 672)   2688        ['block6a_dwconv[0][0]']         \n",
            " )                                                                                                \n",
            "                                                                                                  \n",
            " block6a_activation (Activation  (None, 7, 7, 672)   0           ['block6a_bn[0][0]']             \n",
            " )                                                                                                \n",
            "                                                                                                  \n",
            " block6a_se_squeeze (GlobalAver  (None, 672)         0           ['block6a_activation[0][0]']     \n",
            " agePooling2D)                                                                                    \n",
            "                                                                                                  \n",
            " block6a_se_reshape (Reshape)   (None, 1, 1, 672)    0           ['block6a_se_squeeze[0][0]']     \n",
            "                                                                                                  \n",
            " block6a_se_reduce (Conv2D)     (None, 1, 1, 28)     18844       ['block6a_se_reshape[0][0]']     \n",
            "                                                                                                  \n",
            " block6a_se_expand (Conv2D)     (None, 1, 1, 672)    19488       ['block6a_se_reduce[0][0]']      \n",
            "                                                                                                  \n",
            " block6a_se_excite (Multiply)   (None, 7, 7, 672)    0           ['block6a_activation[0][0]',     \n",
            "                                                                  'block6a_se_expand[0][0]']      \n",
            "                                                                                                  \n",
            " block6a_project_conv (Conv2D)  (None, 7, 7, 192)    129024      ['block6a_se_excite[0][0]']      \n",
            "                                                                                                  \n",
            " block6a_project_bn (BatchNorma  (None, 7, 7, 192)   768         ['block6a_project_conv[0][0]']   \n",
            " lization)                                                                                        \n",
            "                                                                                                  \n",
            " block6b_expand_conv (Conv2D)   (None, 7, 7, 1152)   221184      ['block6a_project_bn[0][0]']     \n",
            "                                                                                                  \n",
            " block6b_expand_bn (BatchNormal  (None, 7, 7, 1152)  4608        ['block6b_expand_conv[0][0]']    \n",
            " ization)                                                                                         \n",
            "                                                                                                  \n",
            " block6b_expand_activation (Act  (None, 7, 7, 1152)  0           ['block6b_expand_bn[0][0]']      \n",
            " ivation)                                                                                         \n",
            "                                                                                                  \n",
            " block6b_dwconv (DepthwiseConv2  (None, 7, 7, 1152)  28800       ['block6b_expand_activation[0][0]\n",
            " D)                                                              ']                               \n",
            "                                                                                                  \n",
            " block6b_bn (BatchNormalization  (None, 7, 7, 1152)  4608        ['block6b_dwconv[0][0]']         \n",
            " )                                                                                                \n",
            "                                                                                                  \n",
            " block6b_activation (Activation  (None, 7, 7, 1152)  0           ['block6b_bn[0][0]']             \n",
            " )                                                                                                \n",
            "                                                                                                  \n",
            " block6b_se_squeeze (GlobalAver  (None, 1152)        0           ['block6b_activation[0][0]']     \n",
            " agePooling2D)                                                                                    \n",
            "                                                                                                  \n",
            " block6b_se_reshape (Reshape)   (None, 1, 1, 1152)   0           ['block6b_se_squeeze[0][0]']     \n",
            "                                                                                                  \n",
            " block6b_se_reduce (Conv2D)     (None, 1, 1, 48)     55344       ['block6b_se_reshape[0][0]']     \n",
            "                                                                                                  \n",
            " block6b_se_expand (Conv2D)     (None, 1, 1, 1152)   56448       ['block6b_se_reduce[0][0]']      \n",
            "                                                                                                  \n",
            " block6b_se_excite (Multiply)   (None, 7, 7, 1152)   0           ['block6b_activation[0][0]',     \n",
            "                                                                  'block6b_se_expand[0][0]']      \n",
            "                                                                                                  \n",
            " block6b_project_conv (Conv2D)  (None, 7, 7, 192)    221184      ['block6b_se_excite[0][0]']      \n",
            "                                                                                                  \n",
            " block6b_project_bn (BatchNorma  (None, 7, 7, 192)   768         ['block6b_project_conv[0][0]']   \n",
            " lization)                                                                                        \n",
            "                                                                                                  \n",
            " block6b_drop (Dropout)         (None, 7, 7, 192)    0           ['block6b_project_bn[0][0]']     \n",
            "                                                                                                  \n",
            " block6b_add (Add)              (None, 7, 7, 192)    0           ['block6b_drop[0][0]',           \n",
            "                                                                  'block6a_project_bn[0][0]']     \n",
            "                                                                                                  \n",
            " block6c_expand_conv (Conv2D)   (None, 7, 7, 1152)   221184      ['block6b_add[0][0]']            \n",
            "                                                                                                  \n",
            " block6c_expand_bn (BatchNormal  (None, 7, 7, 1152)  4608        ['block6c_expand_conv[0][0]']    \n",
            " ization)                                                                                         \n",
            "                                                                                                  \n",
            " block6c_expand_activation (Act  (None, 7, 7, 1152)  0           ['block6c_expand_bn[0][0]']      \n",
            " ivation)                                                                                         \n",
            "                                                                                                  \n",
            " block6c_dwconv (DepthwiseConv2  (None, 7, 7, 1152)  28800       ['block6c_expand_activation[0][0]\n",
            " D)                                                              ']                               \n",
            "                                                                                                  \n",
            " block6c_bn (BatchNormalization  (None, 7, 7, 1152)  4608        ['block6c_dwconv[0][0]']         \n",
            " )                                                                                                \n",
            "                                                                                                  \n",
            " block6c_activation (Activation  (None, 7, 7, 1152)  0           ['block6c_bn[0][0]']             \n",
            " )                                                                                                \n",
            "                                                                                                  \n",
            " block6c_se_squeeze (GlobalAver  (None, 1152)        0           ['block6c_activation[0][0]']     \n",
            " agePooling2D)                                                                                    \n",
            "                                                                                                  \n",
            " block6c_se_reshape (Reshape)   (None, 1, 1, 1152)   0           ['block6c_se_squeeze[0][0]']     \n",
            "                                                                                                  \n",
            " block6c_se_reduce (Conv2D)     (None, 1, 1, 48)     55344       ['block6c_se_reshape[0][0]']     \n",
            "                                                                                                  \n",
            " block6c_se_expand (Conv2D)     (None, 1, 1, 1152)   56448       ['block6c_se_reduce[0][0]']      \n",
            "                                                                                                  \n",
            " block6c_se_excite (Multiply)   (None, 7, 7, 1152)   0           ['block6c_activation[0][0]',     \n",
            "                                                                  'block6c_se_expand[0][0]']      \n",
            "                                                                                                  \n",
            " block6c_project_conv (Conv2D)  (None, 7, 7, 192)    221184      ['block6c_se_excite[0][0]']      \n",
            "                                                                                                  \n",
            " block6c_project_bn (BatchNorma  (None, 7, 7, 192)   768         ['block6c_project_conv[0][0]']   \n",
            " lization)                                                                                        \n",
            "                                                                                                  \n",
            " block6c_drop (Dropout)         (None, 7, 7, 192)    0           ['block6c_project_bn[0][0]']     \n",
            "                                                                                                  \n",
            " block6c_add (Add)              (None, 7, 7, 192)    0           ['block6c_drop[0][0]',           \n",
            "                                                                  'block6b_add[0][0]']            \n",
            "                                                                                                  \n",
            " block6d_expand_conv (Conv2D)   (None, 7, 7, 1152)   221184      ['block6c_add[0][0]']            \n",
            "                                                                                                  \n",
            " block6d_expand_bn (BatchNormal  (None, 7, 7, 1152)  4608        ['block6d_expand_conv[0][0]']    \n",
            " ization)                                                                                         \n",
            "                                                                                                  \n",
            " block6d_expand_activation (Act  (None, 7, 7, 1152)  0           ['block6d_expand_bn[0][0]']      \n",
            " ivation)                                                                                         \n",
            "                                                                                                  \n",
            " block6d_dwconv (DepthwiseConv2  (None, 7, 7, 1152)  28800       ['block6d_expand_activation[0][0]\n",
            " D)                                                              ']                               \n",
            "                                                                                                  \n",
            " block6d_bn (BatchNormalization  (None, 7, 7, 1152)  4608        ['block6d_dwconv[0][0]']         \n",
            " )                                                                                                \n",
            "                                                                                                  \n",
            " block6d_activation (Activation  (None, 7, 7, 1152)  0           ['block6d_bn[0][0]']             \n",
            " )                                                                                                \n",
            "                                                                                                  \n",
            " block6d_se_squeeze (GlobalAver  (None, 1152)        0           ['block6d_activation[0][0]']     \n",
            " agePooling2D)                                                                                    \n",
            "                                                                                                  \n",
            " block6d_se_reshape (Reshape)   (None, 1, 1, 1152)   0           ['block6d_se_squeeze[0][0]']     \n",
            "                                                                                                  \n",
            " block6d_se_reduce (Conv2D)     (None, 1, 1, 48)     55344       ['block6d_se_reshape[0][0]']     \n",
            "                                                                                                  \n",
            " block6d_se_expand (Conv2D)     (None, 1, 1, 1152)   56448       ['block6d_se_reduce[0][0]']      \n",
            "                                                                                                  \n",
            " block6d_se_excite (Multiply)   (None, 7, 7, 1152)   0           ['block6d_activation[0][0]',     \n",
            "                                                                  'block6d_se_expand[0][0]']      \n",
            "                                                                                                  \n",
            " block6d_project_conv (Conv2D)  (None, 7, 7, 192)    221184      ['block6d_se_excite[0][0]']      \n",
            "                                                                                                  \n",
            " block6d_project_bn (BatchNorma  (None, 7, 7, 192)   768         ['block6d_project_conv[0][0]']   \n",
            " lization)                                                                                        \n",
            "                                                                                                  \n",
            " block6d_drop (Dropout)         (None, 7, 7, 192)    0           ['block6d_project_bn[0][0]']     \n",
            "                                                                                                  \n",
            " block6d_add (Add)              (None, 7, 7, 192)    0           ['block6d_drop[0][0]',           \n",
            "                                                                  'block6c_add[0][0]']            \n",
            "                                                                                                  \n",
            " block7a_expand_conv (Conv2D)   (None, 7, 7, 1152)   221184      ['block6d_add[0][0]']            \n",
            "                                                                                                  \n",
            " block7a_expand_bn (BatchNormal  (None, 7, 7, 1152)  4608        ['block7a_expand_conv[0][0]']    \n",
            " ization)                                                                                         \n",
            "                                                                                                  \n",
            " block7a_expand_activation (Act  (None, 7, 7, 1152)  0           ['block7a_expand_bn[0][0]']      \n",
            " ivation)                                                                                         \n",
            "                                                                                                  \n",
            " block7a_dwconv (DepthwiseConv2  (None, 7, 7, 1152)  10368       ['block7a_expand_activation[0][0]\n",
            " D)                                                              ']                               \n",
            "                                                                                                  \n",
            " block7a_bn (BatchNormalization  (None, 7, 7, 1152)  4608        ['block7a_dwconv[0][0]']         \n",
            " )                                                                                                \n",
            "                                                                                                  \n",
            " block7a_activation (Activation  (None, 7, 7, 1152)  0           ['block7a_bn[0][0]']             \n",
            " )                                                                                                \n",
            "                                                                                                  \n",
            " block7a_se_squeeze (GlobalAver  (None, 1152)        0           ['block7a_activation[0][0]']     \n",
            " agePooling2D)                                                                                    \n",
            "                                                                                                  \n",
            " block7a_se_reshape (Reshape)   (None, 1, 1, 1152)   0           ['block7a_se_squeeze[0][0]']     \n",
            "                                                                                                  \n",
            " block7a_se_reduce (Conv2D)     (None, 1, 1, 48)     55344       ['block7a_se_reshape[0][0]']     \n",
            "                                                                                                  \n",
            " block7a_se_expand (Conv2D)     (None, 1, 1, 1152)   56448       ['block7a_se_reduce[0][0]']      \n",
            "                                                                                                  \n",
            " block7a_se_excite (Multiply)   (None, 7, 7, 1152)   0           ['block7a_activation[0][0]',     \n",
            "                                                                  'block7a_se_expand[0][0]']      \n",
            "                                                                                                  \n",
            " block7a_project_conv (Conv2D)  (None, 7, 7, 320)    368640      ['block7a_se_excite[0][0]']      \n",
            "                                                                                                  \n",
            " block7a_project_bn (BatchNorma  (None, 7, 7, 320)   1280        ['block7a_project_conv[0][0]']   \n",
            " lization)                                                                                        \n",
            "                                                                                                  \n",
            " top_conv (Conv2D)              (None, 7, 7, 1280)   409600      ['block7a_project_bn[0][0]']     \n",
            "                                                                                                  \n",
            " top_bn (BatchNormalization)    (None, 7, 7, 1280)   5120        ['top_conv[0][0]']               \n",
            "                                                                                                  \n",
            " top_activation (Activation)    (None, 7, 7, 1280)   0           ['top_bn[0][0]']                 \n",
            "                                                                                                  \n",
            " avg_pool (GlobalAveragePooling  (None, 1280)        0           ['top_activation[0][0]']         \n",
            " 2D)                                                                                              \n",
            "                                                                                                  \n",
            " top_dropout (Dropout)          (None, 1280)         0           ['avg_pool[0][0]']               \n",
            "                                                                                                  \n",
            " predictions (Dense)            (None, 3)            3843        ['top_dropout[0][0]']            \n",
            "                                                                                                  \n",
            "==================================================================================================\n",
            "Total params: 4,053,414\n",
            "Trainable params: 4,011,391\n",
            "Non-trainable params: 42,023\n",
            "__________________________________________________________________________________________________\n"
          ]
        }
      ],
      "source": [
        "model0new.summary()"
      ]
    },
    {
      "cell_type": "code",
      "execution_count": null,
      "metadata": {
        "id": "IxAEzB4ELZ7g"
      },
      "outputs": [],
      "source": []
    },
    {
      "cell_type": "code",
      "execution_count": null,
      "metadata": {
        "colab": {
          "base_uri": "https://localhost:8080/"
        },
        "id": "jkFKLhLsXnXY",
        "outputId": "72f7a2d2-f883-4872-da2b-6ef4099fadf5"
      },
      "outputs": [
        {
          "name": "stdout",
          "output_type": "stream",
          "text": [
            "Epoch 1/20\n",
            "282/282 [==============================] - 124s 366ms/step - loss: 0.5327 - acc: 0.8149 - val_loss: 8.4450 - val_acc: 0.3327\n",
            "Epoch 2/20\n",
            "282/282 [==============================] - 102s 358ms/step - loss: 0.2961 - acc: 0.8939 - val_loss: 0.6406 - val_acc: 0.7089\n",
            "Epoch 3/20\n",
            "282/282 [==============================] - 103s 362ms/step - loss: 0.1979 - acc: 0.9226 - val_loss: 0.7112 - val_acc: 0.8017\n",
            "Epoch 4/20\n",
            "282/282 [==============================] - 104s 365ms/step - loss: 0.1535 - acc: 0.9425 - val_loss: 0.1724 - val_acc: 0.9401\n",
            "Epoch 5/20\n",
            "282/282 [==============================] - 101s 354ms/step - loss: 0.1432 - acc: 0.9505 - val_loss: 0.8476 - val_acc: 0.6820\n",
            "Epoch 6/20\n",
            "282/282 [==============================] - 102s 358ms/step - loss: 0.1356 - acc: 0.9462 - val_loss: 0.2010 - val_acc: 0.9205\n",
            "Epoch 7/20\n",
            "282/282 [==============================] - 102s 357ms/step - loss: 0.0926 - acc: 0.9653 - val_loss: 0.3340 - val_acc: 0.8752\n",
            "Epoch 8/20\n",
            "282/282 [==============================] - 102s 359ms/step - loss: 0.0640 - acc: 0.9765 - val_loss: 0.0815 - val_acc: 0.9701\n",
            "Epoch 9/20\n",
            "282/282 [==============================] - 103s 361ms/step - loss: 0.0653 - acc: 0.9773 - val_loss: 0.1838 - val_acc: 0.9298\n",
            "Epoch 10/20\n",
            "282/282 [==============================] - 103s 361ms/step - loss: 0.0473 - acc: 0.9840 - val_loss: 0.1000 - val_acc: 0.9631\n",
            "Epoch 11/20\n",
            "282/282 [==============================] - 102s 359ms/step - loss: 0.0323 - acc: 0.9888 - val_loss: 0.1226 - val_acc: 0.9581\n",
            "Epoch 12/20\n",
            "282/282 [==============================] - 102s 357ms/step - loss: 0.0824 - acc: 0.9791 - val_loss: 0.2722 - val_acc: 0.9415\n",
            "Epoch 13/20\n",
            "282/282 [==============================] - 102s 359ms/step - loss: 0.0368 - acc: 0.9866 - val_loss: 0.1186 - val_acc: 0.9604\n",
            "Epoch 14/20\n",
            "282/282 [==============================] - 102s 357ms/step - loss: 0.0268 - acc: 0.9916 - val_loss: 0.1201 - val_acc: 0.9571\n",
            "Epoch 15/20\n",
            "282/282 [==============================] - 102s 359ms/step - loss: 0.2433 - acc: 0.9459 - val_loss: 10.4590 - val_acc: 0.3377\n",
            "Epoch 16/20\n",
            "282/282 [==============================] - 102s 358ms/step - loss: 0.2693 - acc: 0.8981 - val_loss: 0.1569 - val_acc: 0.9365\n",
            "Epoch 17/20\n",
            "282/282 [==============================] - 102s 359ms/step - loss: 0.1508 - acc: 0.9400 - val_loss: 0.1951 - val_acc: 0.9128\n",
            "Epoch 18/20\n",
            "282/282 [==============================] - 102s 358ms/step - loss: 0.1500 - acc: 0.9472 - val_loss: 0.1530 - val_acc: 0.9341\n",
            "Epoch 19/20\n",
            "282/282 [==============================] - 102s 360ms/step - loss: 0.1190 - acc: 0.9582 - val_loss: 0.1197 - val_acc: 0.9488\n"
          ]
        }
      ],
      "source": [
        "hist0 = model0new.fit(train_ds, epochs=20, validation_data = valid_ds, callbacks = [tf.keras.callbacks.EarlyStopping(monitor='loss', patience=5)])"
      ]
    },
    {
      "cell_type": "markdown",
      "metadata": {
        "id": "0zTZybq-izvd"
      },
      "source": [
        "**save the model**"
      ]
    },
    {
      "cell_type": "code",
      "execution_count": null,
      "metadata": {
        "colab": {
          "base_uri": "https://localhost:8080/"
        },
        "id": "-d2pHohpiyTD",
        "outputId": "95476dd2-cd78-4aed-d134-3f823bace36f"
      },
      "outputs": [
        {
          "name": "stderr",
          "output_type": "stream",
          "text": [
            "WARNING:absl:Found untraced functions such as _jit_compiled_convolution_op, _jit_compiled_convolution_op, _jit_compiled_convolution_op, _jit_compiled_convolution_op, _jit_compiled_convolution_op while saving (showing 5 of 81). These functions will not be directly callable after loading.\n"
          ]
        }
      ],
      "source": [
        "model0new.save('directory to save model')"
      ]
    },
    {
      "cell_type": "markdown",
      "metadata": {
        "id": "zv96D5NYtwSp"
      },
      "source": [
        "load model"
      ]
    },
    {
      "cell_type": "code",
      "execution_count": null,
      "metadata": {
        "id": "NE9Fqy6PJ6d8"
      },
      "outputs": [],
      "source": [
        "new_model = tf.keras.models.load_model('load saved model')"
      ]
    },
    {
      "cell_type": "code",
      "source": [
        "test_ds = image_dataset_from_directory(directory = 'test dataset directory ', labels='inferred', label_mode='categorical', seed = 69 , batch_size = BATCH_SIZE,image_size = IMAGE_SIZE,shuffle = False)"
      ],
      "metadata": {
        "colab": {
          "base_uri": "https://localhost:8080/"
        },
        "id": "04mqjJosNZAo",
        "outputId": "1138a5d0-64d5-48f2-b621-9ede52e1aa67"
      },
      "execution_count": null,
      "outputs": [
        {
          "output_type": "stream",
          "name": "stdout",
          "text": [
            "Found 3006 files belonging to 3 classes.\n"
          ]
        }
      ]
    },
    {
      "cell_type": "code",
      "source": [
        "Y_pred = new_model.predict(test_ds)"
      ],
      "metadata": {
        "colab": {
          "base_uri": "https://localhost:8080/"
        },
        "id": "crir9tOzNmAp",
        "outputId": "99b54641-aad9-4a73-9390-a1bd95166249"
      },
      "execution_count": null,
      "outputs": [
        {
          "output_type": "stream",
          "name": "stdout",
          "text": [
            "94/94 [==============================] - 250s 3s/step\n"
          ]
        }
      ]
    },
    {
      "cell_type": "code",
      "source": [
        "y_pred = np.argmax(Y_pred ,axis =1)\n",
        "y_pred"
      ],
      "metadata": {
        "colab": {
          "base_uri": "https://localhost:8080/"
        },
        "id": "mC5r_QbeN7Fg",
        "outputId": "18a0e796-522a-4e38-dc56-779e747b180e"
      },
      "execution_count": null,
      "outputs": [
        {
          "output_type": "execute_result",
          "data": {
            "text/plain": [
              "array([0, 0, 0, ..., 2, 2, 2])"
            ]
          },
          "metadata": {},
          "execution_count": 9
        }
      ]
    },
    {
      "cell_type": "markdown",
      "source": [
        "TESTING OF INVIDUAL IMAGES  BY EFFICIENTNETB0 ALL THREE CLASS OF IMAGES ARE TESTED SUCESSFULLY"
      ],
      "metadata": {
        "id": "0NpxrADYpb3P"
      }
    },
    {
      "cell_type": "code",
      "source": [
        "import cv2\n",
        "#from tensorflow.keras.utils import load_img\n",
        "#from keras.preprocessing import image\n",
        "from tensorflow.keras.preprocessing import image\n",
        "img = image.load_img('test image path', target_size=(224, 224))\n",
        "img = np.expand_dims(img, axis=0)\n",
        "Y_pred = new_model.predict(img)\n",
        "y_pred = np.argmax(Y_pred ,axis =1)\n",
        "y_pred"
      ],
      "metadata": {
        "colab": {
          "base_uri": "https://localhost:8080/"
        },
        "id": "euwaF7fXQU1m",
        "outputId": "31533425-0283-4694-a02a-97dd92fcdc4f"
      },
      "execution_count": null,
      "outputs": [
        {
          "output_type": "stream",
          "name": "stdout",
          "text": [
            "1/1 [==============================] - 8s 8s/step\n"
          ]
        },
        {
          "output_type": "execute_result",
          "data": {
            "text/plain": [
              "array([2])"
            ]
          },
          "metadata": {},
          "execution_count": 11
        }
      ]
    },
    {
      "cell_type": "code",
      "source": [
        "img = image.load_img('load sample image', target_size=(224, 224))\n",
        "img = np.expand_dims(img, axis=0)\n",
        "Y_pred = new_model.predict(img)\n",
        "y_pred = np.argmax(Y_pred ,axis =1)\n",
        "y_pred"
      ],
      "metadata": {
        "id": "jKZxdlGZQ0KT",
        "colab": {
          "base_uri": "https://localhost:8080/"
        },
        "outputId": "0d9554ab-b910-4033-c349-8339fab14e62"
      },
      "execution_count": null,
      "outputs": [
        {
          "output_type": "stream",
          "name": "stdout",
          "text": [
            "1/1 [==============================] - 0s 41ms/step\n"
          ]
        },
        {
          "output_type": "execute_result",
          "data": {
            "text/plain": [
              "array([1])"
            ]
          },
          "metadata": {},
          "execution_count": 13
        }
      ]
    },
    {
      "cell_type": "code",
      "source": [
        "img = image.load_img('lung aca test image', target_size=(224, 224))\n",
        "img = np.expand_dims(img, axis=0)\n",
        "Y_pred = new_model.predict(img)\n",
        "y_pred = np.argmax(Y_pred ,axis =1)\n",
        "y_pred"
      ],
      "metadata": {
        "id": "nxKENh6LQ1OA",
        "colab": {
          "base_uri": "https://localhost:8080/"
        },
        "outputId": "67c24d55-c155-4446-d642-52786dc915aa"
      },
      "execution_count": null,
      "outputs": [
        {
          "output_type": "stream",
          "name": "stdout",
          "text": [
            "1/1 [==============================] - 0s 24ms/step\n"
          ]
        },
        {
          "output_type": "execute_result",
          "data": {
            "text/plain": [
              "array([0])"
            ]
          },
          "metadata": {},
          "execution_count": 15
        }
      ]
    },
    {
      "cell_type": "markdown",
      "metadata": {
        "id": "oCtUkbz-J-0a"
      },
      "source": [
        "generate labels for valid set\n"
      ]
    },
    {
      "cell_type": "code",
      "execution_count": null,
      "metadata": {
        "colab": {
          "base_uri": "https://localhost:8080/"
        },
        "id": "OeGESz16wAMB",
        "outputId": "b32e9170-f03b-4249-c464-e775b0bc46c7"
      },
      "outputs": [
        {
          "name": "stdout",
          "output_type": "stream",
          "text": [
            "Found 3006 files belonging to 3 classes.\n"
          ]
        }
      ],
      "source": [
        "test_ds = image_dataset_from_directory(directory = '  test dataset directory', labels='inferred', label_mode='categorical', seed = 69 , batch_size = BATCH_SIZE,image_size = IMAGE_SIZE, shuffle = False)"
      ]
    },
    {
      "cell_type": "code",
      "execution_count": null,
      "metadata": {
        "id": "wnLZ-bbytwqJ"
      },
      "outputs": [],
      "source": []
    },
    {
      "cell_type": "code",
      "execution_count": null,
      "metadata": {
        "id": "iaaGoMS-vzWN"
      },
      "outputs": [],
      "source": [
        "true_categories = tf.concat([y for x, y in test_ds], axis=0)\n",
        "import numpy as np\n",
        "rounded_labels=np.argmax(true_categories, axis=1)"
      ]
    },
    {
      "cell_type": "code",
      "execution_count": null,
      "metadata": {
        "id": "pQMSUdyQUaFk"
      },
      "outputs": [],
      "source": []
    },
    {
      "cell_type": "code",
      "execution_count": null,
      "metadata": {
        "colab": {
          "base_uri": "https://localhost:8080/"
        },
        "id": "CRGK4SNoUaH_",
        "outputId": "8cd8c6aa-e7f4-4e66-a315-5cd52f2ad884"
      },
      "outputs": [
        {
          "data": {
            "text/plain": [
              "array([0, 0, 0, ..., 2, 2, 2])"
            ]
          },
          "execution_count": 21,
          "metadata": {},
          "output_type": "execute_result"
        }
      ],
      "source": [
        "rounded_labels"
      ]
    },
    {
      "cell_type": "markdown",
      "metadata": {
        "id": "QJLe6GeYwzie"
      },
      "source": []
    },
    {
      "cell_type": "code",
      "execution_count": null,
      "metadata": {
        "colab": {
          "base_uri": "https://localhost:8080/"
        },
        "id": "Tt3wFeU5NgHP",
        "outputId": "3b9eff8d-a49e-423d-9d73-232ade945abf"
      },
      "outputs": [
        {
          "name": "stdout",
          "output_type": "stream",
          "text": [
            "94/94 [==============================] - 14s 137ms/step\n"
          ]
        }
      ],
      "source": [
        "Y_pred = model0new.predict(test_ds)\n",
        "y_pred = np.argmax(Y_pred ,axis =1)"
      ]
    },
    {
      "cell_type": "code",
      "execution_count": null,
      "metadata": {
        "colab": {
          "base_uri": "https://localhost:8080/"
        },
        "id": "LMJPVYSyNghp",
        "outputId": "abb4f354-aa1e-4040-d8db-487eb8567dd8"
      },
      "outputs": [
        {
          "name": "stdout",
          "output_type": "stream",
          "text": [
            "94/94 [==============================] - 12s 131ms/step\n",
            "Confusion Matrix\n",
            "[[ 860    2  142]\n",
            " [   0 1002    0]\n",
            " [  11    0  989]]\n",
            "Classification Report\n",
            "              precision    recall  f1-score   support\n",
            "\n",
            "         aca       0.99      0.86      0.92      1004\n",
            "           n       1.00      1.00      1.00      1002\n",
            "         scc       0.87      0.99      0.93      1000\n",
            "\n",
            "    accuracy                           0.95      3006\n",
            "   macro avg       0.95      0.95      0.95      3006\n",
            "weighted avg       0.95      0.95      0.95      3006\n",
            "\n"
          ]
        }
      ],
      "source": [
        "#CHECKING THE CONFUSION MATRIX\n",
        "from sklearn.metrics import classification_report\n",
        "from sklearn.metrics import confusion_matrix\n",
        "from sklearn.metrics import f1_score\n",
        "Y_pred = model0new.predict(test_ds)\n",
        "y_pred = np.argmax(Y_pred ,axis =1)\n",
        "print('Confusion Matrix')\n",
        "cm = confusion_matrix(rounded_labels, y_pred)\n",
        "print(cm)\n",
        "print('Classification Report')\n",
        "target_names = ['aca','n', 'scc']\n",
        "print(classification_report(rounded_labels, y_pred, target_names=target_names))"
      ]
    },
    {
      "cell_type": "markdown",
      "metadata": {
        "id": "refPrLyunyUy"
      },
      "source": [
        "**Finding number of images in each category  in test dataset**"
      ]
    },
    {
      "cell_type": "code",
      "execution_count": null,
      "metadata": {
        "colab": {
          "base_uri": "https://localhost:8080/"
        },
        "id": "1wnhiH-6Te0x",
        "outputId": "badbf8bd-e318-4b0b-b8e1-802efa02dcc6"
      },
      "outputs": [
        {
          "name": "stdout",
          "output_type": "stream",
          "text": [
            "File count: 1004\n"
          ]
        }
      ],
      "source": [
        "import os\n",
        "# folder path\n",
        "dir_path = 'dataset root dirctory'\n",
        "countaca = 0\n",
        "# Iterate directory\n",
        "for path in os.listdir(dir_path):\n",
        "    # check if current path is a file\n",
        "    if os.path.isfile(os.path.join(dir_path, path)):\n",
        "        countaca += 1\n",
        "print('File count:', countaca)"
      ]
    },
    {
      "cell_type": "code",
      "execution_count": null,
      "metadata": {
        "colab": {
          "base_uri": "https://localhost:8080/"
        },
        "id": "hmr_AFbQVoJV",
        "outputId": "3f2aeedf-484e-4ad5-96b5-b8dcaf5d8698"
      },
      "outputs": [
        {
          "name": "stdout",
          "output_type": "stream",
          "text": [
            "File count: 1002\n"
          ]
        }
      ],
      "source": [
        "import os\n",
        "# folder path\n",
        "dir_path = 'normal image directory'\n",
        "countaca = 0\n",
        "# Iterate directory\n",
        "for path in os.listdir(dir_path):\n",
        "    # check if current path is a file\n",
        "    if os.path.isfile(os.path.join(dir_path, path)):\n",
        "        countaca += 1\n",
        "print('File count:', countaca)"
      ]
    },
    {
      "cell_type": "code",
      "execution_count": null,
      "metadata": {
        "id": "hDO3i6CIVwE0"
      },
      "outputs": [],
      "source": [
        "import os\n",
        "# folder path\n",
        "dir_path = 'lung scc images directory'\n",
        "countaca = 0\n",
        "# Iterate directory\n",
        "for path in os.listdir(dir_path):\n",
        "    # check if current path is a file\n",
        "    if os.path.isfile(os.path.join(dir_path, path)):\n",
        "        countaca += 1\n",
        "print('File count:', countaca)"
      ]
    },
    {
      "cell_type": "markdown",
      "metadata": {
        "id": "sICj74kH341S"
      },
      "source": [
        "# **confusion matrxi using validation set**"
      ]
    },
    {
      "cell_type": "code",
      "execution_count": null,
      "metadata": {
        "colab": {
          "base_uri": "https://localhost:8080/"
        },
        "id": "tPKQ_RxS3Lyw",
        "outputId": "cd48e7ce-ce60-4472-aeff-93c3878ed62a"
      },
      "outputs": [
        {
          "name": "stdout",
          "output_type": "stream",
          "text": [
            "66/66 [==============================] - 133s 2s/step\n",
            "Confusion Matrix\n"
          ]
        }
      ],
      "source": [
        "true_categories = tf.concat([y for x, y in valid_ds], axis=0)\n",
        "import numpy as np\n",
        "rounded_labels1=np.argmax(true_categories, axis=1)\n",
        "Y_pred = new_model.predict(valid_ds)\n",
        "y_pred = np.argmax(Y_pred ,axis =1)\n",
        "print('Confusion Matrix')\n"
      ]
    },
    {
      "cell_type": "code",
      "execution_count": null,
      "metadata": {
        "id": "xYy9EDDIE7hI"
      },
      "outputs": [],
      "source": [
        "from sklearn.metrics import classification_report\n",
        "from sklearn.metrics import confusion_matrix\n",
        "from sklearn.metrics import f1_score"
      ]
    },
    {
      "cell_type": "code",
      "execution_count": null,
      "metadata": {
        "id": "LvdVP80m9aR7"
      },
      "outputs": [],
      "source": [
        "print('Confusion Matrix')\n",
        "cm = confusion_matrix(rounded_labels1 , y_pred)\n",
        "print(cm)\n",
        "print('Classification Report')\n",
        "target_names = ['aca','n', 'scc']\n",
        "print(classification_report(rounded_labels1, y_pred, target_names=target_names))"
      ]
    },
    {
      "cell_type": "code",
      "execution_count": null,
      "metadata": {
        "id": "y0Z6Fz4EtS8q"
      },
      "outputs": [],
      "source": [
        "plt.plot(hist0.history['loss'],label = 'train_loss')\n",
        "plt.plot(hist0.history['val_loss'], label = 'testing_loss')\n",
        "plt.xlabel('Epoch')\n",
        "plt.ylabel('Loss')\n",
        "plt.title('Epoch vs Loss')\n",
        "plt.legend()\n",
        "plt.show()"
      ]
    },
    {
      "cell_type": "code",
      "execution_count": null,
      "metadata": {
        "id": "WDRAFVcNXnXZ"
      },
      "outputs": [],
      "source": [
        "plt.plot(hist0.history['acc'], label = 'train_accuracy')\n",
        "plt.plot(hist0.history['val_acc'], label = 'valid_accuracy')\n",
        "plt.xlabel('Epoch')\n",
        "plt.ylabel('Accuracy')\n",
        "plt.title('Epoch vs Accuracy')\n",
        "plt.legend(['training', 'validation'])\n",
        "plt.show()"
      ]
    },
    {
      "cell_type": "markdown",
      "metadata": {
        "id": "3bHDyGgNXnXa"
      },
      "source": [
        "## **### EfficientNetB1**"
      ]
    },
    {
      "cell_type": "code",
      "execution_count": null,
      "metadata": {
        "id": "oglY6qZ6XnXa"
      },
      "outputs": [],
      "source": [
        "model1new = tf.keras.applications.EfficientNetB1(weights=None, input_shape=(224, 224, 3), classes=3)\n",
        "model1new.compile(optimizer='adam', loss='categorical_crossentropy', metrics=['acc'])"
      ]
    },
    {
      "cell_type": "code",
      "execution_count": null,
      "metadata": {
        "colab": {
          "base_uri": "https://localhost:8080/"
        },
        "id": "USc_PaOBnbQU",
        "outputId": "26ff8523-ad3b-4b27-ec40-8bc9d9ae9d09"
      },
      "outputs": [
        {
          "name": "stdout",
          "output_type": "stream",
          "text": [
            "Epoch 1/20\n",
            "282/282 [==============================] - 2900s 10s/step - loss: 0.6050 - acc: 0.7889 - val_loss: 5.5393 - val_acc: 0.3327\n",
            "Epoch 2/20\n",
            "282/282 [==============================] - 140s 491ms/step - loss: 0.2884 - acc: 0.8911 - val_loss: 1.0040 - val_acc: 0.6554\n",
            "Epoch 3/20\n",
            "282/282 [==============================] - 140s 493ms/step - loss: 0.2159 - acc: 0.9180 - val_loss: 0.4267 - val_acc: 0.8613\n",
            "Epoch 4/20\n",
            "282/282 [==============================] - 139s 491ms/step - loss: 0.1652 - acc: 0.9368 - val_loss: 0.4467 - val_acc: 0.8460\n",
            "Epoch 5/20\n",
            "282/282 [==============================] - 140s 492ms/step - loss: 0.1540 - acc: 0.9417 - val_loss: 0.2420 - val_acc: 0.9035\n",
            "Epoch 6/20\n",
            "282/282 [==============================] - 139s 490ms/step - loss: 0.1162 - acc: 0.9580 - val_loss: 0.1818 - val_acc: 0.9212\n",
            "Epoch 7/20\n",
            "282/282 [==============================] - 140s 494ms/step - loss: 0.0882 - acc: 0.9676 - val_loss: 0.1328 - val_acc: 0.9451\n",
            "Epoch 8/20\n",
            "282/282 [==============================] - 139s 491ms/step - loss: 0.0737 - acc: 0.9739 - val_loss: 0.2866 - val_acc: 0.9122\n",
            "Epoch 9/20\n",
            "282/282 [==============================] - 139s 491ms/step - loss: 0.0758 - acc: 0.9728 - val_loss: 0.1958 - val_acc: 0.9285\n",
            "Epoch 10/20\n",
            "282/282 [==============================] - 139s 490ms/step - loss: 0.0837 - acc: 0.9773 - val_loss: 0.1759 - val_acc: 0.9371\n",
            "Epoch 11/20\n",
            "282/282 [==============================] - 139s 491ms/step - loss: 0.0685 - acc: 0.9819 - val_loss: 0.2046 - val_acc: 0.9325\n",
            "Epoch 12/20\n",
            "282/282 [==============================] - 140s 492ms/step - loss: 0.0910 - acc: 0.9764 - val_loss: 0.2114 - val_acc: 0.9338\n",
            "Epoch 13/20\n",
            "282/282 [==============================] - 139s 491ms/step - loss: 0.0379 - acc: 0.9876 - val_loss: 0.1273 - val_acc: 0.9518\n",
            "Epoch 14/20\n",
            "282/282 [==============================] - 140s 493ms/step - loss: 0.0346 - acc: 0.9880 - val_loss: 0.0988 - val_acc: 0.9661\n",
            "Epoch 15/20\n",
            "282/282 [==============================] - 141s 498ms/step - loss: 0.0683 - acc: 0.9781 - val_loss: 0.1153 - val_acc: 0.9607\n",
            "Epoch 16/20\n",
            "282/282 [==============================] - 140s 494ms/step - loss: 0.0406 - acc: 0.9851 - val_loss: 0.0932 - val_acc: 0.9621\n",
            "Epoch 17/20\n",
            "282/282 [==============================] - 139s 489ms/step - loss: 0.0297 - acc: 0.9892 - val_loss: 0.2001 - val_acc: 0.9521\n",
            "Epoch 18/20\n",
            "282/282 [==============================] - 140s 492ms/step - loss: 0.0436 - acc: 0.9856 - val_loss: 0.0589 - val_acc: 0.9800\n",
            "Epoch 19/20\n",
            "282/282 [==============================] - 139s 491ms/step - loss: 0.0355 - acc: 0.9876 - val_loss: 0.1279 - val_acc: 0.9571\n",
            "Epoch 20/20\n",
            "282/282 [==============================] - 141s 496ms/step - loss: 0.0373 - acc: 0.9872 - val_loss: 0.1067 - val_acc: 0.9614\n"
          ]
        }
      ],
      "source": [
        "hist1 = model1new.fit(train_ds, epochs=20, validation_data = valid_ds, callbacks = [tf.keras.callbacks.EarlyStopping(monitor='loss', patience=5)])"
      ]
    },
    {
      "cell_type": "code",
      "execution_count": null,
      "metadata": {
        "colab": {
          "base_uri": "https://localhost:8080/"
        },
        "id": "YynQsm4lf1b8",
        "outputId": "ebe73fc9-9978-4313-f25e-ca0cd12c329b"
      },
      "outputs": [
        {
          "name": "stderr",
          "output_type": "stream",
          "text": [
            "WARNING:absl:Found untraced functions such as _jit_compiled_convolution_op, _jit_compiled_convolution_op, _jit_compiled_convolution_op, _jit_compiled_convolution_op, _jit_compiled_convolution_op while saving (showing 5 of 115). These functions will not be directly callable after loading.\n"
          ]
        }
      ],
      "source": [
        "model1new.save('model driectory')"
      ]
    },
    {
      "cell_type": "code",
      "execution_count": null,
      "metadata": {
        "colab": {
          "base_uri": "https://localhost:8080/",
          "height": 295
        },
        "id": "Sw8pafB0XnXb",
        "outputId": "eca6fb4f-8195-4953-906e-033524c4f5f8"
      },
      "outputs": [
        {
          "data": {
            "image/png": "[encoded data removed]",
            "text/plain": [
              "<Figure size 432x288 with 1 Axes>"
            ]
          },
          "metadata": {},
          "output_type": "display_data"
        }
      ],
      "source": [
        "plt.plot(hist1.history['acc'])\n",
        "plt.plot(hist1.history['val_acc'])\n",
        "plt.xlabel('Epoch')\n",
        "plt.ylabel('Accuracy')\n",
        "plt.title('Epoch vs Accuracy')\n",
        "plt.legend(['training', 'validation'])\n",
        "plt.show()"
      ]
    },
    {
      "cell_type": "code",
      "execution_count": null,
      "metadata": {
        "colab": {
          "base_uri": "https://localhost:8080/",
          "height": 295
        },
        "id": "Lv-5Gk8cW-sd",
        "outputId": "56b3c4ea-4e60-44e6-da35-bc591ef3d5e6"
      },
      "outputs": [
        {
          "data": {
            "image/png": "[encoded data removed]",
            "text/plain": [
              "<Figure size 432x288 with 1 Axes>"
            ]
          },
          "metadata": {},
          "output_type": "display_data"
        }
      ],
      "source": [
        "plt.plot(hist1.history['loss'],label = 'train_loss')\n",
        "plt.plot(hist1.history['val_loss'], label = 'testing_loss')\n",
        "plt.title('Epoch vs Loss')\n",
        "plt.xlabel('Epoch')\n",
        "plt.ylabel('Loss')\n",
        "plt.legend()\n",
        "plt.show()"
      ]
    },
    {
      "cell_type": "code",
      "execution_count": null,
      "metadata": {
        "colab": {
          "base_uri": "https://localhost:8080/"
        },
        "id": "4CXO9WAYLQI6",
        "outputId": "0616a849-93e3-4978-a4c8-4d06394b5490"
      },
      "outputs": [
        {
          "name": "stdout",
          "output_type": "stream",
          "text": [
            "Found 3006 files belonging to 3 classes.\n"
          ]
        }
      ],
      "source": [
        "test_ds = image_dataset_from_directory(directory = 'lung test dataset', labels='inferred', label_mode='categorical', seed = 69 , batch_size = BATCH_SIZE,image_size = IMAGE_SIZE, shuffle = False)\n",
        "true_categories = tf.concat([y for x, y in test_ds], axis=0)\n",
        "import numpy as np\n",
        "rounded_labels=np.argmax(true_categories, axis=1)\n",
        "\n"
      ]
    },
    {
      "cell_type": "code",
      "execution_count": null,
      "metadata": {
        "colab": {
          "base_uri": "https://localhost:8080/"
        },
        "id": "duubSug2LQOP",
        "outputId": "4f8cc4b0-0442-4e3d-c813-69a9c356df1a"
      },
      "outputs": [
        {
          "name": "stdout",
          "output_type": "stream",
          "text": [
            "94/94 [==============================] - 16s 146ms/step\n",
            "Confusion Matrix\n",
            "[[ 894    0  110]\n",
            " [   1 1001    0]\n",
            " [   4    0  996]]\n",
            "Classification Report\n",
            "              precision    recall  f1-score   support\n",
            "\n",
            "         aca       0.99      0.89      0.94      1004\n",
            "           n       1.00      1.00      1.00      1002\n",
            "         scc       0.90      1.00      0.95      1000\n",
            "\n",
            "    accuracy                           0.96      3006\n",
            "   macro avg       0.96      0.96      0.96      3006\n",
            "weighted avg       0.97      0.96      0.96      3006\n",
            "\n"
          ]
        }
      ],
      "source": [
        "#CHECKING THE CONFUSION MATRIX\n",
        "from sklearn.metrics import classification_report\n",
        "from sklearn.metrics import confusion_matrix\n",
        "from sklearn.metrics import f1_score\n",
        "Y_pred = model1new.predict(test_ds)\n",
        "y_pred = np.argmax(Y_pred ,axis =1)\n",
        "print('Confusion Matrix')\n",
        "cm = confusion_matrix(rounded_labels, y_pred)\n",
        "print(cm)\n",
        "print('Classification Report')\n",
        "target_names = ['aca','n', 'scc']\n",
        "print(classification_report(rounded_labels, y_pred, target_names=target_names))"
      ]
    },
    {
      "cell_type": "markdown",
      "source": [
        "**Testing EfficientNetB1**"
      ],
      "metadata": {
        "id": "jjXHjWM6-CXY"
      }
    },
    {
      "cell_type": "code",
      "source": [
        "new_model = tf.keras.models.load_model('load models')"
      ],
      "metadata": {
        "id": "PmF2Ss1p-CxD"
      },
      "execution_count": null,
      "outputs": []
    },
    {
      "cell_type": "code",
      "source": [
        "import cv2\n",
        "#from tensorflow.keras.utils import load_img\n",
        "#from keras.preprocessing import image\n",
        "from tensorflow.keras.preprocessing import image\n",
        "img = image.load_img('load scc test image', target_size=(224, 224))\n",
        "img = np.expand_dims(img, axis=0)\n",
        "Y_pred = new_model.predict(img)\n",
        "y_pred = np.argmax(Y_pred ,axis =1)\n",
        "y_pred"
      ],
      "metadata": {
        "id": "bu5RMyjs-XGj"
      },
      "execution_count": null,
      "outputs": []
    },
    {
      "cell_type": "code",
      "source": [
        "img = image.load_img('load normal test image', target_size=(224, 224))\n",
        "img = np.expand_dims(img, axis=0)\n",
        "Y_pred = new_model.predict(img)\n",
        "y_pred = np.argmax(Y_pred ,axis =1)\n",
        "y_pred"
      ],
      "metadata": {
        "id": "ZS5_6vfi-YDx"
      },
      "execution_count": null,
      "outputs": []
    },
    {
      "cell_type": "code",
      "source": [
        "img = image.load_img('load aca test image', target_size=(224, 224))\n",
        "img = np.expand_dims(img, axis=0)\n",
        "Y_pred = new_model.predict(img)\n",
        "y_pred = np.argmax(Y_pred ,axis =1)\n",
        "y_pred"
      ],
      "metadata": {
        "id": "5_0seFH5-YzN"
      },
      "execution_count": null,
      "outputs": []
    },
    {
      "cell_type": "code",
      "source": [],
      "metadata": {
        "id": "9OQsWlxv-1_s"
      },
      "execution_count": null,
      "outputs": []
    },
    {
      "cell_type": "markdown",
      "metadata": {
        "id": "V4mzz1mzcyg6"
      },
      "source": [
        "EfficientNetB2"
      ]
    },
    {
      "cell_type": "code",
      "execution_count": null,
      "metadata": {
        "id": "R5cVuMqdA66b"
      },
      "outputs": [],
      "source": [
        "model2new = tf.keras.applications.EfficientNetB2(weights=None, input_shape=(224, 224,3), classes=3)\n",
        "model2new.compile(optimizer='adam', loss='categorical_crossentropy', metrics=['acc'])\n",
        "#model2new.summary()"
      ]
    },
    {
      "cell_type": "code",
      "execution_count": null,
      "metadata": {
        "colab": {
          "base_uri": "https://localhost:8080/"
        },
        "id": "zDcJA7ABc8Lk",
        "outputId": "fd67612d-94e2-40d1-d704-96b73a28bbf6"
      },
      "outputs": [
        {
          "name": "stdout",
          "output_type": "stream",
          "text": [
            "Epoch 1/20\n",
            "282/282 [==============================] - 163s 529ms/step - loss: 1.0249 - acc: 0.7166 - val_loss: 8.7633 - val_acc: 0.3327\n",
            "Epoch 2/20\n",
            "282/282 [==============================] - 145s 513ms/step - loss: 0.3417 - acc: 0.8689 - val_loss: 4.5601 - val_acc: 0.4182\n",
            "Epoch 3/20\n",
            "282/282 [==============================] - 142s 501ms/step - loss: 0.2667 - acc: 0.8964 - val_loss: 0.3878 - val_acc: 0.8713\n",
            "Epoch 4/20\n",
            "282/282 [==============================] - 142s 499ms/step - loss: 0.2517 - acc: 0.9062 - val_loss: 0.2529 - val_acc: 0.8942\n",
            "Epoch 5/20\n",
            "282/282 [==============================] - 143s 506ms/step - loss: 0.1640 - acc: 0.9326 - val_loss: 0.4660 - val_acc: 0.8430\n",
            "Epoch 6/20\n",
            "282/282 [==============================] - 144s 509ms/step - loss: 0.1540 - acc: 0.9414 - val_loss: 0.1517 - val_acc: 0.9345\n",
            "Epoch 7/20\n",
            "282/282 [==============================] - 146s 514ms/step - loss: 0.1204 - acc: 0.9518 - val_loss: 0.2498 - val_acc: 0.9029\n",
            "Epoch 8/20\n",
            "282/282 [==============================] - 144s 508ms/step - loss: 0.1178 - acc: 0.9569 - val_loss: 0.2257 - val_acc: 0.9381\n",
            "Epoch 9/20\n",
            "282/282 [==============================] - 142s 501ms/step - loss: 0.0919 - acc: 0.9659 - val_loss: 0.1728 - val_acc: 0.9291\n",
            "Epoch 10/20\n",
            "282/282 [==============================] - 144s 507ms/step - loss: 0.0585 - acc: 0.9789 - val_loss: 0.2337 - val_acc: 0.9092\n",
            "Epoch 11/20\n",
            "282/282 [==============================] - 144s 509ms/step - loss: 0.0690 - acc: 0.9760 - val_loss: 0.6860 - val_acc: 0.8330\n",
            "Epoch 12/20\n",
            "282/282 [==============================] - 144s 509ms/step - loss: 0.1103 - acc: 0.9618 - val_loss: 1.0639 - val_acc: 0.7418\n",
            "Epoch 13/20\n",
            "282/282 [==============================] - 142s 499ms/step - loss: 0.0729 - acc: 0.9711 - val_loss: 0.6419 - val_acc: 0.8636\n",
            "Epoch 14/20\n",
            "282/282 [==============================] - 144s 507ms/step - loss: 0.0544 - acc: 0.9800 - val_loss: 0.3977 - val_acc: 0.8772\n",
            "Epoch 15/20\n",
            "282/282 [==============================] - 144s 506ms/step - loss: 0.0926 - acc: 0.9711 - val_loss: 0.6165 - val_acc: 0.8955\n",
            "Epoch 16/20\n",
            "282/282 [==============================] - 145s 512ms/step - loss: 0.1069 - acc: 0.9642 - val_loss: 1.7054 - val_acc: 0.9305\n",
            "Epoch 17/20\n",
            "282/282 [==============================] - 145s 511ms/step - loss: 0.0513 - acc: 0.9815 - val_loss: 0.2218 - val_acc: 0.9311\n",
            "Epoch 18/20\n",
            "282/282 [==============================] - 149s 526ms/step - loss: 0.0870 - acc: 0.9866 - val_loss: 0.2135 - val_acc: 0.9381\n",
            "Epoch 19/20\n",
            "282/282 [==============================] - 145s 513ms/step - loss: 0.0377 - acc: 0.9881 - val_loss: 0.1179 - val_acc: 0.9631\n",
            "Epoch 20/20\n",
            "282/282 [==============================] - 145s 511ms/step - loss: 0.1201 - acc: 0.9618 - val_loss: 0.3184 - val_acc: 0.9215\n"
          ]
        }
      ],
      "source": [
        "hist2 = model2new.fit(train_ds, epochs=20, validation_data = valid_ds, callbacks = [tf.keras.callbacks.EarlyStopping(monitor='loss', patience=5)])"
      ]
    },
    {
      "cell_type": "code",
      "execution_count": null,
      "metadata": {
        "colab": {
          "base_uri": "https://localhost:8080/",
          "height": 295
        },
        "id": "Y6ZvFQnJc8dH",
        "outputId": "246bab24-3e2a-416e-c796-f0793a0eff49"
      },
      "outputs": [
        {
          "data": {
            "image/png": "[encoded data removed]",
            "text/plain": [
              "<Figure size 432x288 with 1 Axes>"
            ]
          },
          "metadata": {},
          "output_type": "display_data"
        }
      ],
      "source": [
        "plt.plot(hist2.history['loss'],label = 'train_loss')\n",
        "plt.plot(hist2.history['val_loss'], label = 'testing_loss')\n",
        "plt.xlabel('Epoch')\n",
        "plt.ylabel('Loss')\n",
        "plt.title('Epoch vs Loss')\n",
        "plt.legend()\n",
        "plt.show()"
      ]
    },
    {
      "cell_type": "code",
      "execution_count": null,
      "metadata": {
        "colab": {
          "base_uri": "https://localhost:8080/",
          "height": 295
        },
        "id": "XzUxWomjeJpE",
        "outputId": "d6b6e0f9-585c-4026-8700-9ee1ce999819"
      },
      "outputs": [
        {
          "data": {
            "image/png": "[encoded data removed]",
            "text/plain": [
              "<Figure size 432x288 with 1 Axes>"
            ]
          },
          "metadata": {},
          "output_type": "display_data"
        }
      ],
      "source": [
        "plt.plot(hist2.history['acc'],label = 'train_acc')\n",
        "plt.plot(hist2.history['val_acc'],label = 'valid_acc')\n",
        "plt.xlabel('Epoch')\n",
        "plt.ylabel('Accuracy')\n",
        "plt.title('Epoch vs Accuracy')\n",
        "plt.legend(['training', 'validation'])\n",
        "plt.show()"
      ]
    },
    {
      "cell_type": "markdown",
      "metadata": {
        "id": "7YteFnYCcvIa"
      },
      "source": []
    },
    {
      "cell_type": "code",
      "execution_count": null,
      "metadata": {
        "colab": {
          "base_uri": "https://localhost:8080/"
        },
        "id": "E51p52v9zzyC",
        "outputId": "27ae3fc2-c18e-4830-9afb-856db4aeb25e"
      },
      "outputs": [
        {
          "name": "stderr",
          "output_type": "stream",
          "text": [
            "WARNING:absl:Found untraced functions such as _jit_compiled_convolution_op, _jit_compiled_convolution_op, _jit_compiled_convolution_op, _jit_compiled_convolution_op, _jit_compiled_convolution_op while saving (showing 5 of 115). These functions will not be directly callable after loading.\n"
          ]
        }
      ],
      "source": [
        "model2new.save('model directory')"
      ]
    },
    {
      "cell_type": "code",
      "execution_count": null,
      "metadata": {
        "colab": {
          "base_uri": "https://localhost:8080/"
        },
        "id": "HzhNFPdFO5eW",
        "outputId": "561ad5ad-df2f-4257-9b62-23eb9899008f"
      },
      "outputs": [
        {
          "name": "stdout",
          "output_type": "stream",
          "text": [
            "Found 2086 files belonging to 3 classes.\n"
          ]
        }
      ],
      "source": [
        "\n",
        "import numpy as np\n",
        "rounded_labels=np.argmax(true_categories, axis=1)\n"
      ]
    },
    {
      "cell_type": "code",
      "execution_count": null,
      "metadata": {
        "colab": {
          "base_uri": "https://localhost:8080/"
        },
        "id": "OsSyqMmBPDwP",
        "outputId": "61360baf-b50b-44e3-902e-4583e4e5ea1d"
      },
      "outputs": [
        {
          "name": "stdout",
          "output_type": "stream",
          "text": [
            "94/94 [==============================] - 15s 139ms/step\n",
            "Confusion Matrix\n",
            "[[ 929   45   30]\n",
            " [   0 1002    0]\n",
            " [ 145   18  837]]\n",
            "Classification Report\n",
            "              precision    recall  f1-score   support\n",
            "\n",
            "         aca       0.86      0.93      0.89      1004\n",
            "           n       0.94      1.00      0.97      1002\n",
            "         scc       0.97      0.84      0.90      1000\n",
            "\n",
            "    accuracy                           0.92      3006\n",
            "   macro avg       0.92      0.92      0.92      3006\n",
            "weighted avg       0.92      0.92      0.92      3006\n",
            "\n"
          ]
        }
      ],
      "source": [
        "#CHECKING THE CONFUSION MATRIX\n",
        "from sklearn.metrics import classification_report\n",
        "from sklearn.metrics import confusion_matrix\n",
        "from sklearn.metrics import f1_score\n",
        "Y_pred = model2new.predict(test_ds)\n",
        "y_pred = np.argmax(Y_pred ,axis =1)\n",
        "print('Confusion Matrix')\n",
        "cm = confusion_matrix(rounded_labels, y_pred)\n",
        "print(cm)\n",
        "print('Classification Report')\n",
        "target_names = ['aca','n', 'scc']\n",
        "print(classification_report(rounded_labels, y_pred, target_names=target_names))"
      ]
    },
    {
      "cell_type": "markdown",
      "source": [
        "**Testing of EfficientNetB2**"
      ],
      "metadata": {
        "id": "Gu37zC5___4U"
      }
    },
    {
      "cell_type": "code",
      "source": [
        "new_model = tf.keras.models.load_model('load model')"
      ],
      "metadata": {
        "id": "bxohimwc_3q4"
      },
      "execution_count": null,
      "outputs": []
    },
    {
      "cell_type": "code",
      "source": [
        "import cv2\n",
        "#from tensorflow.keras.utils import load_img\n",
        "#from keras.preprocessing import image\n",
        "from tensorflow.keras.preprocessing import image\n",
        "img = image.load_img('load lung scc image', target_size=(224, 224))\n",
        "img = np.expand_dims(img, axis=0)\n",
        "Y_pred = new_model.predict(img)\n",
        "y_pred = np.argmax(Y_pred ,axis =1)\n",
        "y_pred"
      ],
      "metadata": {
        "id": "iJnbqAZ1_34D"
      },
      "execution_count": null,
      "outputs": []
    },
    {
      "cell_type": "code",
      "source": [
        "img = image.load_img('load lung normal image', target_size=(224, 224))\n",
        "img = np.expand_dims(img, axis=0)\n",
        "Y_pred = new_model.predict(img)\n",
        "y_pred = np.argmax(Y_pred ,axis =1)\n",
        "y_pred"
      ],
      "metadata": {
        "id": "aONY-Uf9_4GY"
      },
      "execution_count": null,
      "outputs": []
    },
    {
      "cell_type": "code",
      "source": [
        "img = image.load_img('load lung aca images, directory', target_size=(224, 224))\n",
        "img = np.expand_dims(img, axis=0)\n",
        "Y_pred = new_model.predict(img)\n",
        "y_pred = np.argmax(Y_pred ,axis =1)\n",
        "y_pred"
      ],
      "metadata": {
        "id": "m4SaT95E_4RX"
      },
      "execution_count": null,
      "outputs": []
    },
    {
      "cell_type": "code",
      "execution_count": null,
      "metadata": {
        "colab": {
          "base_uri": "https://localhost:8080/"
        },
        "id": "1HppvES4UL2d",
        "outputId": "7eb6dddf-9b73-4302-c242-75c2c724489c"
      },
      "outputs": [
        {
          "name": "stdout",
          "output_type": "stream",
          "text": [
            "Accuracy :  0.9395973154362416\n",
            "Sensitivity :  1.0\n",
            "Specificity :  0.9573590096286108\n"
          ]
        }
      ],
      "source": [
        "total1=sum(sum(cm))\n",
        "#####from confusion matrix calculate accuracy\n",
        "accuracy1=(cm[0,0]+cm[1,1]+cm[2,2])/total1\n",
        "print ('Accuracy : ', accuracy1)\n",
        "\n",
        "sensitivity1 = cm[0,0]/(cm[0,0]+cm[0,1])\n",
        "print('Sensitivity : ', sensitivity1 )\n",
        "\n",
        "specificity1 = cm[1,1]/(cm[1,0]+cm[1,1])\n",
        "print('Specificity : ', specificity1)"
      ]
    },
    {
      "cell_type": "markdown",
      "metadata": {
        "id": "2uzIhyF2aA_d"
      },
      "source": [
        "**EfficientNetB3**"
      ]
    },
    {
      "cell_type": "code",
      "execution_count": null,
      "metadata": {
        "id": "hZFy2ZwaCR50"
      },
      "outputs": [],
      "source": [
        "import tensorflow as tf\n"
      ]
    },
    {
      "cell_type": "code",
      "execution_count": null,
      "metadata": {
        "id": "bJxduwfCa5-0"
      },
      "outputs": [],
      "source": [
        "model3new = tf.keras.applications.EfficientNetB3(weights=None, input_shape=(224,224, 3), classes=3)\n",
        "model3new.compile(optimizer='adam', loss='categorical_crossentropy', metrics=['acc'])\n",
        "#model3new.summary()"
      ]
    },
    {
      "cell_type": "code",
      "execution_count": null,
      "metadata": {
        "colab": {
          "base_uri": "https://localhost:8080/"
        },
        "id": "LIosEaJoCXm_",
        "outputId": "122cd5b7-82f4-470d-a25b-bcba09db1620"
      },
      "outputs": [
        {
          "output_type": "stream",
          "name": "stdout",
          "text": [
            "Epoch 1/20\n",
            "282/282 [==============================] - 2132s 7s/step - loss: 1.5602 - acc: 0.6758 - val_loss: 1.8746 - val_acc: 0.3327\n",
            "Epoch 2/20\n",
            "282/282 [==============================] - 176s 622ms/step - loss: 0.5862 - acc: 0.8131 - val_loss: 10.8204 - val_acc: 0.6567\n",
            "Epoch 3/20\n",
            "282/282 [==============================] - 176s 622ms/step - loss: 0.5015 - acc: 0.8249 - val_loss: 0.5768 - val_acc: 0.7791\n",
            "Epoch 4/20\n",
            "282/282 [==============================] - 177s 625ms/step - loss: 0.3544 - acc: 0.8771 - val_loss: 0.2563 - val_acc: 0.9029\n",
            "Epoch 5/20\n",
            "282/282 [==============================] - 176s 622ms/step - loss: 0.2937 - acc: 0.9110 - val_loss: 0.1879 - val_acc: 0.9232\n",
            "Epoch 6/20\n",
            "282/282 [==============================] - 176s 622ms/step - loss: 0.2162 - acc: 0.9313 - val_loss: 0.4058 - val_acc: 0.9005\n",
            "Epoch 7/20\n",
            "282/282 [==============================] - 176s 622ms/step - loss: 0.2134 - acc: 0.9280 - val_loss: 1.1461 - val_acc: 0.8822\n",
            "Epoch 8/20\n",
            "282/282 [==============================] - 177s 623ms/step - loss: 0.2792 - acc: 0.9030 - val_loss: 0.6020 - val_acc: 0.8706\n",
            "Epoch 9/20\n",
            "282/282 [==============================] - 177s 623ms/step - loss: 0.1844 - acc: 0.9354 - val_loss: 0.3202 - val_acc: 0.9019\n",
            "Epoch 10/20\n",
            "282/282 [==============================] - 176s 623ms/step - loss: 0.1337 - acc: 0.9520 - val_loss: 0.1390 - val_acc: 0.9421\n",
            "Epoch 11/20\n",
            "282/282 [==============================] - 176s 623ms/step - loss: 0.1208 - acc: 0.9573 - val_loss: 1.0160 - val_acc: 0.7209\n",
            "Epoch 12/20\n",
            "282/282 [==============================] - 177s 624ms/step - loss: 0.1661 - acc: 0.9406 - val_loss: 0.1979 - val_acc: 0.9345\n",
            "Epoch 13/20\n",
            "282/282 [==============================] - 177s 624ms/step - loss: 0.1115 - acc: 0.9576 - val_loss: 0.1257 - val_acc: 0.9534\n",
            "Epoch 14/20\n",
            "282/282 [==============================] - 177s 625ms/step - loss: 0.2469 - acc: 0.9210 - val_loss: 0.2002 - val_acc: 0.9079\n",
            "Epoch 15/20\n",
            "282/282 [==============================] - 177s 624ms/step - loss: 0.1347 - acc: 0.9523 - val_loss: 0.1134 - val_acc: 0.9551\n",
            "Epoch 16/20\n",
            "282/282 [==============================] - 177s 623ms/step - loss: 0.0913 - acc: 0.9667 - val_loss: 0.2763 - val_acc: 0.8965\n",
            "Epoch 17/20\n",
            "282/282 [==============================] - 177s 624ms/step - loss: 0.0666 - acc: 0.9764 - val_loss: 0.0996 - val_acc: 0.9651\n",
            "Epoch 18/20\n",
            "282/282 [==============================] - 177s 624ms/step - loss: 0.0599 - acc: 0.9781 - val_loss: 0.1010 - val_acc: 0.9641\n",
            "Epoch 19/20\n",
            "282/282 [==============================] - 177s 625ms/step - loss: 0.1033 - acc: 0.9601 - val_loss: 0.0772 - val_acc: 0.9721\n",
            "Epoch 20/20\n",
            "282/282 [==============================] - 176s 622ms/step - loss: 0.0596 - acc: 0.9789 - val_loss: 0.1115 - val_acc: 0.9568\n"
          ]
        }
      ],
      "source": [
        "hist3 = model3new.fit(train_ds, epochs=20, validation_data = valid_ds, callbacks = [tf.keras.callbacks.EarlyStopping(monitor='loss', patience=5)])"
      ]
    },
    {
      "cell_type": "code",
      "execution_count": null,
      "metadata": {
        "id": "BlLSJFvPlmQv"
      },
      "outputs": [],
      "source": []
    },
    {
      "cell_type": "code",
      "execution_count": null,
      "metadata": {
        "id": "AU4SR9bM0NFV",
        "colab": {
          "base_uri": "https://localhost:8080/",
          "height": 295
        },
        "outputId": "7892e135-c633-4034-9873-9f684385abac"
      },
      "outputs": [
        {
          "output_type": "display_data",
          "data": {
            "text/plain": [
              "<Figure size 432x288 with 1 Axes>"
            ],
            "image/png": "[encoded data removed]"
          },
          "metadata": {
            "needs_background": "light"
          }
        }
      ],
      "source": [
        "plt.plot(hist3.history['loss'],label = 'train_loss')\n",
        "plt.plot(hist3.history['val_loss'], label = 'testing_loss')\n",
        "plt.xlabel('Epoch')\n",
        "plt.ylabel('Loss')\n",
        "plt.title('Epoch vs Loss')\n",
        "plt.legend()\n",
        "plt.show()"
      ]
    },
    {
      "cell_type": "code",
      "execution_count": null,
      "metadata": {
        "id": "FdstP9_H0NPk",
        "colab": {
          "base_uri": "https://localhost:8080/",
          "height": 295
        },
        "outputId": "f6cf2ef3-580e-4d69-d743-4010f5034e81"
      },
      "outputs": [
        {
          "output_type": "display_data",
          "data": {
            "text/plain": [
              "<Figure size 432x288 with 1 Axes>"
            ],
            "image/png": "[encoded data removed]"
          },
          "metadata": {
            "needs_background": "light"
          }
        }
      ],
      "source": [
        "plt.plot(hist3.history['acc'],label = 'train_acc')\n",
        "plt.plot(hist3.history['val_acc'],label = 'vaid_acc')\n",
        "plt.xlabel('Epoch')\n",
        "plt.ylabel('Accuracy')\n",
        "plt.title('Epoch vs Accuracy')\n",
        "plt.legend(['training', 'validation'])\n",
        "plt.show()"
      ]
    },
    {
      "cell_type": "code",
      "execution_count": null,
      "metadata": {
        "id": "FX3dEppQjqcd",
        "colab": {
          "base_uri": "https://localhost:8080/"
        },
        "outputId": "73000a75-7062-4eab-f9b7-eca7b81bbd71"
      },
      "outputs": [
        {
          "output_type": "stream",
          "name": "stderr",
          "text": [
            "WARNING:absl:Found untraced functions such as _jit_compiled_convolution_op, _jit_compiled_convolution_op, _jit_compiled_convolution_op, _jit_compiled_convolution_op, _jit_compiled_convolution_op while saving (showing 5 of 130). These functions will not be directly callable after loading.\n"
          ]
        }
      ],
      "source": [
        "model3new.save('load model')"
      ]
    },
    {
      "cell_type": "code",
      "source": [
        "true_categories = tf.concat([y for x, y in test_ds], axis=0)\n",
        "import numpy as np\n",
        "rounded_labels=np.argmax(true_categories, axis=1)\n"
      ],
      "metadata": {
        "id": "X9W2vCwtKSBv"
      },
      "execution_count": null,
      "outputs": []
    },
    {
      "cell_type": "code",
      "source": [
        "#CHECKING THE CONFUSION MATRIX\n",
        "from sklearn.metrics import classification_report\n",
        "from sklearn.metrics import confusion_matrix\n",
        "from sklearn.metrics import f1_score\n",
        "Y_pred = model3new.predict(test_ds)\n",
        "y_pred = np.argmax(Y_pred ,axis =1)\n",
        "print('Confusion Matrix')\n",
        "cm = confusion_matrix(rounded_labels, y_pred)\n",
        "print(cm)\n",
        "print('Classification Report')\n",
        "target_names = ['aca','n', 'scc']\n",
        "print(classification_report(rounded_labels, y_pred, target_names=target_names))"
      ],
      "metadata": {
        "colab": {
          "base_uri": "https://localhost:8080/"
        },
        "id": "2FzLxbSgKYK0",
        "outputId": "074e5f47-6243-467f-9319-ede141c13ed8"
      },
      "execution_count": null,
      "outputs": [
        {
          "output_type": "stream",
          "name": "stdout",
          "text": [
            "94/94 [==============================] - 48s 152ms/step\n",
            "Confusion Matrix\n",
            "[[894   1 109]\n",
            " [  0 995   7]\n",
            " [ 12   0 988]]\n",
            "Classification Report\n",
            "              precision    recall  f1-score   support\n",
            "\n",
            "         aca       0.99      0.89      0.94      1004\n",
            "           n       1.00      0.99      1.00      1002\n",
            "         scc       0.89      0.99      0.94      1000\n",
            "\n",
            "    accuracy                           0.96      3006\n",
            "   macro avg       0.96      0.96      0.96      3006\n",
            "weighted avg       0.96      0.96      0.96      3006\n",
            "\n"
          ]
        }
      ]
    }
  ],
  "metadata": {
    "accelerator": "GPU",
    "colab": {
      "provenance": []
    },
    "gpuClass": "standard",
    "kernelspec": {
      "display_name": "Python 3",
      "language": "python",
      "name": "python3"
    },
    "language_info": {
      "codemirror_mode": {
        "name": "ipython",
        "version": 3
      },
      "file_extension": ".py",
      "mimetype": "text/x-python",
      "name": "python",
      "nbconvert_exporter": "python",
      "pygments_lexer": "ipython3",
      "version": "3.6.4"
    }
  },
  "nbformat": 4,
  "nbformat_minor": 0
}